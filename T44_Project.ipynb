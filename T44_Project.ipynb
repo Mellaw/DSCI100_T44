{
 "cells": [
  {
   "cell_type": "markdown",
   "metadata": {},
   "source": [
    "## DSCI 100 Project Proposal Team 44"
   ]
  },
  {
   "cell_type": "markdown",
   "metadata": {},
   "source": [
    "# Project Title: Determining The Best Predictors Heart Disease"
   ]
  },
  {
   "cell_type": "markdown",
   "metadata": {},
   "source": [
    "## Introduction\n",
    "\n",
    "Heart disease or failure is a condition where the heart muscle of the afflicted cannot pump blood as efficiently due to a structural defect, compared to a person without the condition. Quick diagnosis and implementation of treatments may be able to drastically improve someone's chances of living through heart disease.\n",
    "\n",
    "The question we will be trying to answer with our project is the following: What combination of relevant predictors will produce the most accurate prediction model?\n",
    "In this project, we hope to accomplish the following:\n",
    "1.\tMake a training model that can accurately predict whether a person has heart disease given certain predictors.\n",
    "2.\tDetermine the optimal predictors using forward selection.\n",
    "3.\tDetermine the accuracy of our model and compare it to the accuracy of models built through the forward selection process.\n",
    "\n",
    "We will be using the processed Cleveland data found under the Heart Disease Data Set provided by the UCI Machine Learning Repository (1). The main attributes we will be looking into include the ones numbered 1, 4, 5, 8, 10, and 12, as seen on the listed attributes on the website. Initially, there were 6 observations that contained missing information that we decided to remove from the overall data set we decided to use. All columns of the data set contain quantitative data with certain values corresponding to a meaning. (eg. cp of 1 = typical angina, 2 = atypical angina, 3 = non-anginal pain, 4 = asymptomatic). Note that we are only using numerical classifiers as we are using k-nn classification.\n",
    "The following predictors we will be examining to answer our question are as follows: age, trestbps, chol, thalach, oldpeak, ca.\n",
    "\n",
    "The following justifications below show our reasons on why we are using certain predictors and their relationship with heart disease.\n",
    "\n",
    "**Age (age)**\n",
    "- Aging is shown to increase cholesterol level (another predictor related to heart disease) (2).\n",
    "- Age is related to other health factors such as risk of diabetes, frailty, obesity, and build-up of fatty deposits on artery walls, which is related to heart disease (3).\n",
    "\n",
    "**Resting Blood Pressure (trestbps)**\n",
    "- High blood pressure causes damage to the arteries, forcing the body to spend energy to constantly heal them, potentially increasing risk of heart disease (4).\n",
    "\n",
    "**Cholesterol Level(chol)**\n",
    "- High cholesterol levels cause the arteries to clog due to build-up of plaque, which in turn affects blood flow, and increases risk of stroke, angina, and other chest problems (5).\n",
    "\n",
    "**Maximum Heart Rate Record (thalach)**\n",
    "- High maximum heart rate shows that the heart is strong and healthy as it is also an indication of routine exercise and indicates a lower risk of heart disease (6).\n",
    "- High aerobic capacity is associated with a lower risk of heart disease (6).\n",
    "\n",
    "**ST depression induced by exercise relative to rest (oldpeak)**\n",
    "- Patients with chest disease have been found to have ST depression segments on their ECG (7).\n",
    "- ST depression segments are commonly associated with signs of chest and heart problems (7).\n",
    "\n",
    "**Major vessels colour by flurosocopy (ca)**\n",
    "- A greater number of vessels coloured by fluoroscopy is associated with a greater risk of getting heart disease and has been found to be linked to Coronary Artery disease (a type of heart disease) (8).\n",
    "\n"
   ]
  },
  {
   "cell_type": "markdown",
   "metadata": {},
   "source": [
    "## Methods & Results"
   ]
  },
  {
   "cell_type": "code",
   "execution_count": 147,
   "metadata": {},
   "outputs": [],
   "source": [
    "#Loading relevant libraries\n",
    "library(tidyverse)\n",
    "library(repr)\n",
    "library(tidymodels)"
   ]
  },
  {
   "cell_type": "code",
   "execution_count": 148,
   "metadata": {},
   "outputs": [
    {
     "name": "stderr",
     "output_type": "stream",
     "text": [
      "Parsed with column specification:\n",
      "cols(\n",
      "  X1 = \u001b[32mcol_double()\u001b[39m,\n",
      "  X2 = \u001b[32mcol_double()\u001b[39m,\n",
      "  X3 = \u001b[32mcol_double()\u001b[39m,\n",
      "  X4 = \u001b[32mcol_double()\u001b[39m,\n",
      "  X5 = \u001b[32mcol_double()\u001b[39m,\n",
      "  X6 = \u001b[32mcol_double()\u001b[39m,\n",
      "  X7 = \u001b[32mcol_double()\u001b[39m,\n",
      "  X8 = \u001b[32mcol_double()\u001b[39m,\n",
      "  X9 = \u001b[32mcol_double()\u001b[39m,\n",
      "  X10 = \u001b[32mcol_double()\u001b[39m,\n",
      "  X11 = \u001b[32mcol_double()\u001b[39m,\n",
      "  X12 = \u001b[31mcol_character()\u001b[39m,\n",
      "  X13 = \u001b[31mcol_character()\u001b[39m,\n",
      "  X14 = \u001b[32mcol_double()\u001b[39m\n",
      ")\n",
      "\n",
      "Warning message:\n",
      "“Problem with `mutate()` input `ca`.\n",
      "\u001b[34mℹ\u001b[39m NAs introduced by coercion\n",
      "\u001b[34mℹ\u001b[39m Input `ca` is `as.numeric(ca)`.”\n",
      "Warning message in mask$eval_all_mutate(dots[[i]]):\n",
      "“NAs introduced by coercion”\n",
      "Warning message:\n",
      "“Problem with `mutate()` input `thal`.\n",
      "\u001b[34mℹ\u001b[39m NAs introduced by coercion\n",
      "\u001b[34mℹ\u001b[39m Input `thal` is `as.numeric(thal)`.”\n",
      "Warning message in mask$eval_all_mutate(dots[[i]]):\n",
      "“NAs introduced by coercion”\n"
     ]
    }
   ],
   "source": [
    "set.seed(800)\n",
    "\n",
    "#Read data in from UCI website\n",
    "data <- read_csv(\"https://archive.ics.uci.edu/ml/machine-learning-databases/heart-disease/processed.cleveland.data\",\n",
    "                 col_names = FALSE )\n",
    "\n",
    "#Add column names\n",
    "attributes <-  c(\"age\", 'sex','cp', 'trestbps', 'chol', 'fbs', 'restecg',\n",
    "                 'thalach', 'exang', 'oldpeak', 'slope', 'ca', 'thal', 'num')\n",
    "colnames(data) <- attributes\n",
    "\n",
    "#Remove NA values and reformat data types to correct type\n",
    "data <- data %>%\n",
    "  mutate(oldpeak = as.numeric(oldpeak),\n",
    "         ca = as.numeric(ca),\n",
    "         thal = as.numeric(thal)) %>% \n",
    "  filter(!is.na(ca),\n",
    "         !is.na(thal))\n",
    "\n",
    "#Remove categorial predictors \n",
    "data <-  data %>% \n",
    "    select(-c(cp, fbs, restecg, exang, slope, thal))\n",
    "\n",
    "#Convert the prediction label into a factor\n",
    "data <- data %>%\n",
    "  mutate(num = ifelse(num > 0,\"disease\",\"healthy\")) %>% \n",
    "  mutate(num = as_factor(num)) %>% \n",
    "  mutate(sex = ifelse(sex == 1 ,\"male\",\"female\"))\n",
    "\n",
    "#head(data)"
   ]
  },
  {
   "cell_type": "code",
   "execution_count": 149,
   "metadata": {},
   "outputs": [],
   "source": [
    "set.seed(800)\n",
    "\n",
    "#Create training and testing datasets \n",
    "heart_split <- initial_split(data, prop = 0.80, strata = num)\n",
    "heart_train <- training(heart_split)\n",
    "heart_test <- testing(heart_split)   \n",
    "\n",
    "#head(heart_train)\n"
   ]
  },
  {
   "cell_type": "markdown",
   "metadata": {},
   "source": [
    "### Exploratory Data Analysis\n",
    "Explore the dataset by creating summary tables and figures to uncover trends in the data."
   ]
  },
  {
   "cell_type": "code",
   "execution_count": 150,
   "metadata": {},
   "outputs": [
    {
     "name": "stderr",
     "output_type": "stream",
     "text": [
      "`summarise()` ungrouping output (override with `.groups` argument)\n",
      "\n",
      "`summarise()` ungrouping output (override with `.groups` argument)\n",
      "\n",
      "`summarise()` regrouping output by 'num' (override with `.groups` argument)\n",
      "\n"
     ]
    }
   ],
   "source": [
    "set.seed(800)\n",
    "\n",
    "# Exploratory Tables ------------------------------------------------------\n",
    "\n",
    "#Propotion of observations with heart disease and without \n",
    "heart_proportions <- heart_train %>% \n",
    "  group_by(num) %>% \n",
    "  summarize(n = n()) %>% \n",
    "  mutate(percent = 100*n/nrow(heart_train))%>%\n",
    "  rename(\"disease\" = num,\n",
    "         \"count\" = n)\n",
    "\n",
    "#Table containing summary statistics \n",
    "summary <- heart_train %>%\n",
    "  select(-c(num,sex)) %>% \n",
    "  pivot_longer(everything()) %>%\n",
    "  arrange(name) %>%\n",
    "  group_by(name) %>%\n",
    "  summarize(\n",
    "    mean = mean(value),\n",
    "    std_dev = sd(value),\n",
    "    median = median(value),\n",
    "    max = max(value),\n",
    "    min = min(value),\n",
    "    quartile.1 = quantile(value, 0.25),\n",
    "    quartile.3 = quantile(value, 0.75)) %>%\n",
    "  rename(\"predictor\" = name)\n",
    "\n",
    "#Number observations with and without heart disease by sex\n",
    "num_char <- heart_train %>% \n",
    "  select(num, sex, age) %>% \n",
    "  group_by(num, sex) %>% \n",
    "  summarise(n = n())\n"
   ]
  },
  {
   "cell_type": "code",
   "execution_count": 151,
   "metadata": {},
   "outputs": [
    {
     "data": {
      "text/html": [
       "<table>\n",
       "<caption>A tibble: 2 × 3</caption>\n",
       "<thead>\n",
       "\t<tr><th scope=col>disease</th><th scope=col>count</th><th scope=col>percent</th></tr>\n",
       "\t<tr><th scope=col>&lt;fct&gt;</th><th scope=col>&lt;int&gt;</th><th scope=col>&lt;dbl&gt;</th></tr>\n",
       "</thead>\n",
       "<tbody>\n",
       "\t<tr><td>healthy</td><td>129</td><td>53.9749</td></tr>\n",
       "\t<tr><td>disease</td><td>110</td><td>46.0251</td></tr>\n",
       "</tbody>\n",
       "</table>\n"
      ],
      "text/latex": [
       "A tibble: 2 × 3\n",
       "\\begin{tabular}{lll}\n",
       " disease & count & percent\\\\\n",
       " <fct> & <int> & <dbl>\\\\\n",
       "\\hline\n",
       "\t healthy & 129 & 53.9749\\\\\n",
       "\t disease & 110 & 46.0251\\\\\n",
       "\\end{tabular}\n"
      ],
      "text/markdown": [
       "\n",
       "A tibble: 2 × 3\n",
       "\n",
       "| disease &lt;fct&gt; | count &lt;int&gt; | percent &lt;dbl&gt; |\n",
       "|---|---|---|\n",
       "| healthy | 129 | 53.9749 |\n",
       "| disease | 110 | 46.0251 |\n",
       "\n"
      ],
      "text/plain": [
       "  disease count percent\n",
       "1 healthy 129   53.9749\n",
       "2 disease 110   46.0251"
      ]
     },
     "metadata": {},
     "output_type": "display_data"
    }
   ],
   "source": [
    "heart_proportions"
   ]
  },
  {
   "cell_type": "markdown",
   "metadata": {},
   "source": [
    "##### **Table 1. Proportion of Patients with Heart Disease**\n",
    "The incidence of heart disease is indicated by disease status. Those without heart disease as denoted as healthy. Proportion of patients with and without heart disease in the dataset is approximately the same. "
   ]
  },
  {
   "cell_type": "code",
   "execution_count": 152,
   "metadata": {},
   "outputs": [
    {
     "data": {
      "text/html": [
       "<table>\n",
       "<caption>A tibble: 6 × 8</caption>\n",
       "<thead>\n",
       "\t<tr><th scope=col>predictor</th><th scope=col>mean</th><th scope=col>std_dev</th><th scope=col>median</th><th scope=col>max</th><th scope=col>min</th><th scope=col>quartile.1</th><th scope=col>quartile.3</th></tr>\n",
       "\t<tr><th scope=col>&lt;chr&gt;</th><th scope=col>&lt;dbl&gt;</th><th scope=col>&lt;dbl&gt;</th><th scope=col>&lt;dbl&gt;</th><th scope=col>&lt;dbl&gt;</th><th scope=col>&lt;dbl&gt;</th><th scope=col>&lt;dbl&gt;</th><th scope=col>&lt;dbl&gt;</th></tr>\n",
       "</thead>\n",
       "<tbody>\n",
       "\t<tr><td>age     </td><td> 54.5774059</td><td> 9.2487378</td><td> 56.0</td><td> 77.0</td><td> 29</td><td> 47.0</td><td> 61.0</td></tr>\n",
       "\t<tr><td>ca      </td><td>  0.6987448</td><td> 0.9577407</td><td>  0.0</td><td>  3.0</td><td>  0</td><td>  0.0</td><td>  1.0</td></tr>\n",
       "\t<tr><td>chol    </td><td>249.3430962</td><td>53.4072614</td><td>244.0</td><td>564.0</td><td>126</td><td>211.5</td><td>279.5</td></tr>\n",
       "\t<tr><td>oldpeak </td><td>  1.0602510</td><td> 1.1954613</td><td>  0.8</td><td>  6.2</td><td>  0</td><td>  0.0</td><td>  1.6</td></tr>\n",
       "\t<tr><td>thalach </td><td>150.0502092</td><td>23.0077990</td><td>153.0</td><td>202.0</td><td> 71</td><td>138.0</td><td>165.0</td></tr>\n",
       "\t<tr><td>trestbps</td><td>132.2217573</td><td>17.2150568</td><td>130.0</td><td>200.0</td><td> 94</td><td>120.0</td><td>140.0</td></tr>\n",
       "</tbody>\n",
       "</table>\n"
      ],
      "text/latex": [
       "A tibble: 6 × 8\n",
       "\\begin{tabular}{llllllll}\n",
       " predictor & mean & std\\_dev & median & max & min & quartile.1 & quartile.3\\\\\n",
       " <chr> & <dbl> & <dbl> & <dbl> & <dbl> & <dbl> & <dbl> & <dbl>\\\\\n",
       "\\hline\n",
       "\t age      &  54.5774059 &  9.2487378 &  56.0 &  77.0 &  29 &  47.0 &  61.0\\\\\n",
       "\t ca       &   0.6987448 &  0.9577407 &   0.0 &   3.0 &   0 &   0.0 &   1.0\\\\\n",
       "\t chol     & 249.3430962 & 53.4072614 & 244.0 & 564.0 & 126 & 211.5 & 279.5\\\\\n",
       "\t oldpeak  &   1.0602510 &  1.1954613 &   0.8 &   6.2 &   0 &   0.0 &   1.6\\\\\n",
       "\t thalach  & 150.0502092 & 23.0077990 & 153.0 & 202.0 &  71 & 138.0 & 165.0\\\\\n",
       "\t trestbps & 132.2217573 & 17.2150568 & 130.0 & 200.0 &  94 & 120.0 & 140.0\\\\\n",
       "\\end{tabular}\n"
      ],
      "text/markdown": [
       "\n",
       "A tibble: 6 × 8\n",
       "\n",
       "| predictor &lt;chr&gt; | mean &lt;dbl&gt; | std_dev &lt;dbl&gt; | median &lt;dbl&gt; | max &lt;dbl&gt; | min &lt;dbl&gt; | quartile.1 &lt;dbl&gt; | quartile.3 &lt;dbl&gt; |\n",
       "|---|---|---|---|---|---|---|---|\n",
       "| age      |  54.5774059 |  9.2487378 |  56.0 |  77.0 |  29 |  47.0 |  61.0 |\n",
       "| ca       |   0.6987448 |  0.9577407 |   0.0 |   3.0 |   0 |   0.0 |   1.0 |\n",
       "| chol     | 249.3430962 | 53.4072614 | 244.0 | 564.0 | 126 | 211.5 | 279.5 |\n",
       "| oldpeak  |   1.0602510 |  1.1954613 |   0.8 |   6.2 |   0 |   0.0 |   1.6 |\n",
       "| thalach  | 150.0502092 | 23.0077990 | 153.0 | 202.0 |  71 | 138.0 | 165.0 |\n",
       "| trestbps | 132.2217573 | 17.2150568 | 130.0 | 200.0 |  94 | 120.0 | 140.0 |\n",
       "\n"
      ],
      "text/plain": [
       "  predictor mean        std_dev    median max   min quartile.1 quartile.3\n",
       "1 age        54.5774059  9.2487378  56.0   77.0  29  47.0       61.0     \n",
       "2 ca          0.6987448  0.9577407   0.0    3.0   0   0.0        1.0     \n",
       "3 chol      249.3430962 53.4072614 244.0  564.0 126 211.5      279.5     \n",
       "4 oldpeak     1.0602510  1.1954613   0.8    6.2   0   0.0        1.6     \n",
       "5 thalach   150.0502092 23.0077990 153.0  202.0  71 138.0      165.0     \n",
       "6 trestbps  132.2217573 17.2150568 130.0  200.0  94 120.0      140.0     "
      ]
     },
     "metadata": {},
     "output_type": "display_data"
    }
   ],
   "source": [
    "summary"
   ]
  },
  {
   "cell_type": "markdown",
   "metadata": {},
   "source": [
    "##### **Table 2. Summary Statistics of Predictors**\n",
    "The scale of each predictor varies, necessitating the need to scale and balance predictors prior to model construction."
   ]
  },
  {
   "cell_type": "code",
   "execution_count": 153,
   "metadata": {},
   "outputs": [],
   "source": [
    "# Visualizations ----------------------------------------------------------\n",
    "\n",
    "#Grouped barchart for sex vs heart disease\n",
    "sex_bar_plot <- num_char %>% \n",
    "  ggplot(aes(x = num, y = n, fill = sex))+\n",
    "  geom_bar(position=\"fill\", stat=\"identity\")+\n",
    "  labs(x = \"Heart Disease\", y = \"Patients\", fill = \"Sex\")+\n",
    "  theme_bw()+\n",
    "  ggtitle(\"Presence of Heart Disease Across Gender\")\n",
    "\n",
    "#age box plot\n",
    "age_box_plot <- heart_train %>% \n",
    "  ggplot(aes(x= as.factor(num), y = age))+\n",
    "  geom_boxplot()+\n",
    "  labs(x = \"Heart Disease\", y = \"Age\")+\n",
    "  theme_bw()+\n",
    "  ggtitle(\"Distribution of Age Across Heart Disease\")"
   ]
  },
  {
   "cell_type": "code",
   "execution_count": 154,
   "metadata": {},
   "outputs": [
    {
     "data": {
      "image/png": "[encoded data removed]",
      "text/plain": [
       "plot without title"
      ]
     },
     "metadata": {
      "image/png": {
       "height": 420,
       "width": 420
      }
     },
     "output_type": "display_data"
    }
   ],
   "source": [
    "sex_bar_plot"
   ]
  },
  {
   "cell_type": "markdown",
   "metadata": {},
   "source": [
    "##### **Figure 1. Incidence of Heart Disease Across Sex**\n",
    "Men show a higher incidence of heart disease compared to women. Stratifying by sex could produce a more accurate classifier since men and women do not appear to be affected the same"
   ]
  },
  {
   "cell_type": "code",
   "execution_count": 155,
   "metadata": {},
   "outputs": [
    {
     "data": {
      "image/png": "[encoded data removed]",
      "text/plain": [
       "plot without title"
      ]
     },
     "metadata": {
      "image/png": {
       "height": 420,
       "width": 420
      }
     },
     "output_type": "display_data"
    }
   ],
   "source": [
    "age_box_plot"
   ]
  },
  {
   "cell_type": "markdown",
   "metadata": {},
   "source": [
    "##### **Figure 2. Distribution of Age Across Disease Status**\n",
    "The median age of those with heart disease is greater than healthy individuals. Is possible that the classifier will be more accurate for predicting disease status for those aged 45-65, as the majority of individuals with heart disease fall in this age range\n"
   ]
  },
  {
   "cell_type": "markdown",
   "metadata": {},
   "source": [
    "### k-NN Classification"
   ]
  },
  {
   "cell_type": "markdown",
   "metadata": {},
   "source": [
    "#### Determination of the most optimal value of K"
   ]
  },
  {
   "cell_type": "code",
   "execution_count": 156,
   "metadata": {},
   "outputs": [],
   "source": [
    "set.seed(800)\n",
    "\n",
    "#create the model recipe\n",
    "recipe <- recipe(num ~ age + trestbps + chol + thalach + oldpeak + ca,\n",
    "                         data = heart_train) %>% \n",
    "  step_scale(all_predictors()) %>% \n",
    "  step_center(all_predictors())\n",
    "\n",
    "#Create the model specification\n",
    "knn_spec <- nearest_neighbor(weight_func = \"rectangular\", \n",
    "                             neighbors = tune()) %>% \n",
    "  set_engine(\"kknn\") %>% \n",
    "  set_mode(\"classification\")\n",
    "\n",
    "#Cross-validation\n",
    "heart_vfold <- vfold_cv(heart_train,\n",
    "                        v = 5,\n",
    "                        strata = num)\n",
    "\n",
    "#Combine above steps into a single workflow\n",
    "knn_results <- workflow() %>% \n",
    "  add_recipe(recipe) %>% \n",
    "  add_model(knn_spec) %>% \n",
    "  tune_grid(resamples = heart_vfold, grid = 10) %>% \n",
    "  collect_metrics() \n",
    "\n",
    "accuracies <- knn_results %>% \n",
    "  filter(.metric == \"accuracy\")\n",
    "#accuracies"
   ]
  },
  {
   "cell_type": "markdown",
   "metadata": {},
   "source": [
    "To find the ideal k value we will use a line+point graph that plots neighbors vs estimated accuracies to identify what k value yields the most accurate results."
   ]
  },
  {
   "cell_type": "code",
   "execution_count": 157,
   "metadata": {},
   "outputs": [
    {
     "data": {
      "image/png": "[encoded data removed]",
      "text/plain": [
       "plot without title"
      ]
     },
     "metadata": {
      "image/png": {
       "height": 420,
       "width": 420
      }
     },
     "output_type": "display_data"
    }
   ],
   "source": [
    "#Plot the estimated model accuracy vs number of neighbors\n",
    "accuracy_vs_n <- ggplot(accuracies, aes(x = neighbors, y = mean)) +\n",
    "  geom_point() +\n",
    "  geom_line() +\n",
    "  labs(x = \"Neighbors\", y = \"Accuracy Estimate\") + \n",
    "  theme(text = element_text(size = 12))\n",
    "accuracy_vs_n"
   ]
  },
  {
   "cell_type": "markdown",
   "metadata": {},
   "source": [
    "##### **Figure 3. Estimated Accuracy Per Number of Neighbors**\n",
    "The highest estimated accuracy was obtained when K = 5 was proceeded with for downstream analysis. K=5 was deemed suitable as variation in accuracy estimates changed less after this threshold.\n"
   ]
  },
  {
   "cell_type": "code",
   "execution_count": 158,
   "metadata": {},
   "outputs": [
    {
     "data": {
      "text/html": [
       "0.824267782426778"
      ],
      "text/latex": [
       "0.824267782426778"
      ],
      "text/markdown": [
       "0.824267782426778"
      ],
      "text/plain": [
       "[1] 0.8242678"
      ]
     },
     "metadata": {},
     "output_type": "display_data"
    }
   ],
   "source": [
    "set.seed(800)\n",
    "\n",
    "#Retrain the classifier using the optimal K value determined above\n",
    "knn_spec_rt <- nearest_neighbor(weight_func = \"rectangular\", neighbors = 5) %>% \n",
    "  set_engine(\"kknn\") %>% \n",
    "  set_mode(\"classification\")\n",
    "\n",
    "knn_fit_rt <- workflow() %>% \n",
    "  add_recipe(recipe) %>% \n",
    "  add_model(knn_spec_rt) %>% \n",
    "  fit(data = heart_train)\n",
    "\n",
    "#Peform prediction on training data to compare with prediction on testing data.\n",
    "#This step is performed to obtain sense for possible over/underfitting\n",
    "heart_train_predictions <- predict(knn_fit_rt, heart_train) %>% \n",
    "  bind_cols(heart_train)\n",
    "\n",
    "heart_metrics_train <- heart_train_predictions %>% \n",
    "  metrics(truth = num, estimate = .pred_class) %>% \n",
    "  filter(.metric == \"accuracy\")\n",
    "\n",
    "#heart_train_predictions\n",
    "heart_metrics_train <- heart_metrics_train %>% \n",
    "    select(.estimate) %>% \n",
    "    pull()\n",
    "heart_metrics_train"
   ]
  },
  {
   "cell_type": "markdown",
   "metadata": {},
   "source": [
    "#### Predict Model Accuracy on Testing Data"
   ]
  },
  {
   "cell_type": "code",
   "execution_count": 159,
   "metadata": {},
   "outputs": [
    {
     "data": {
      "text/html": [
       "0.793103448275862"
      ],
      "text/latex": [
       "0.793103448275862"
      ],
      "text/markdown": [
       "0.793103448275862"
      ],
      "text/plain": [
       "[1] 0.7931034"
      ]
     },
     "metadata": {},
     "output_type": "display_data"
    }
   ],
   "source": [
    "set.seed(800)\n",
    "heart_test_predictions <- predict(knn_fit_rt, heart_test) %>% \n",
    "  bind_cols(heart_test)\n",
    "\n",
    "heart_metrics_test <- heart_test_predictions %>% \n",
    "  metrics(truth = num, estimate = .pred_class) %>% \n",
    "  filter(.metric == \"accuracy\")\n",
    "\n",
    "#heart_test_predictions\n",
    "heart_metrics_test <- heart_metrics_test %>% \n",
    "    select(.estimate) %>% \n",
    "    pull()\n",
    "heart_metrics_test"
   ]
  },
  {
   "cell_type": "markdown",
   "metadata": {},
   "source": [
    "The testing data suggests that the model has an accuracy of 79%. Compared to an estimated accuracy of 82% on the training data, the model is likely not over or underfitting the data."
   ]
  },
  {
   "cell_type": "code",
   "execution_count": 160,
   "metadata": {},
   "outputs": [
    {
     "data": {
      "text/plain": [
       "          Truth\n",
       "Prediction healthy disease\n",
       "   healthy      24       5\n",
       "   disease       7      22"
      ]
     },
     "metadata": {},
     "output_type": "display_data"
    }
   ],
   "source": [
    "#Confusion matrix \n",
    "\n",
    "confusion <- heart_test_predictions %>% \n",
    "             conf_mat(truth = num , estimate = .pred_class)\n",
    "\n",
    "confusion"
   ]
  },
  {
   "cell_type": "markdown",
   "metadata": {},
   "source": [
    "##### **Table 3. Confusion Matrix from Testing Data Predictions**\n",
    "The classifier labeled 46 out of 58 observations correctly. False positives and false negatives were also present, 7 observations were labeled as having heart disease when they were healthy and 5 observations with heart disease were labeled as healthy. \n"
   ]
  },
  {
   "cell_type": "markdown",
   "metadata": {},
   "source": [
    "### Forward Selection\n",
    "#### Compare the selected predictors to what forward selection suggests are the optimal predictors."
   ]
  },
  {
   "cell_type": "code",
   "execution_count": 161,
   "metadata": {},
   "outputs": [],
   "source": [
    "set.seed(800)\n",
    "\n",
    "#Predictor columns\n",
    "names <- colnames(heart_train %>% select(-c(num, sex)))\n",
    "\n",
    "#Tibble to store accuracies:\n",
    "accuracies_fs <- tibble(size = integer(),\n",
    "                     model_string = character(),\n",
    "                     accuracy = numeric())\n",
    "\n",
    "#create a model spec\n",
    "knn_spec <- nearest_neighbor(weight_func = \"rectangular\",\n",
    "                             neighbors = tune()) %>%\n",
    "  set_engine(\"kknn\") %>% \n",
    "  set_mode(\"classification\")\n",
    "\n",
    "#Create a 5-fold cross-validation object\n",
    "heart_vfold <- vfold_cv(heart_train,\n",
    "                        v = 5,\n",
    "                        strata = num)\n",
    "\n",
    "#Store the total number of predictors \n",
    "n_total <- length(names)\n",
    "\n",
    "#Store selected predictors\n",
    "selected <- c()\n"
   ]
  },
  {
   "cell_type": "code",
   "execution_count": 162,
   "metadata": {},
   "outputs": [],
   "source": [
    "set.seed(800)\n",
    "for (i in 1:n_total) {\n",
    "  accs <- list()\n",
    "  models <- list()\n",
    "  for (j in 1:length(names)){\n",
    "    preds_new <- c(selected, names[[j]])\n",
    "    model_string <- paste(\"num\", \"~\", paste(preds_new, collapse = '+'))\n",
    "    \n",
    "    #Create recipe from model string\n",
    "    heart_recipe <- recipe(as.formula(model_string),\n",
    "                            data = heart_train) %>% \n",
    "      step_scale(all_predictors()) %>% \n",
    "      step_center(all_predictors())\n",
    "    \n",
    "    #Tune KNN classifier with these predictors\n",
    "    #collect accuracy for best k\n",
    "    \n",
    "    acc <- workflow() %>% \n",
    "      add_recipe(heart_recipe) %>% \n",
    "      add_model(knn_spec) %>% \n",
    "      tune_grid(resamples = heart_vfold, grid = 10) %>% \n",
    "      collect_metrics() %>% \n",
    "      filter(.metric == \"accuracy\") %>% \n",
    "      summarise(mx = max(mean))\n",
    "    acc <- acc$mx %>% unlist()\n",
    "    \n",
    "    #add result to dataframe\n",
    "    accs[[j]] <- acc\n",
    "    models[[j]] <- model_string\n",
    "  }\n",
    "  jstar <- which.max(unlist(accs))\n",
    "  accuracies_fs <- accuracies_fs %>% \n",
    "    add_row(size = i, \n",
    "            model_string = models[[jstar]], \n",
    "            accuracy = accs[[jstar]])\n",
    "  selected <- c(selected, names[[jstar]])\n",
    "  names <- names[-jstar]\n",
    "}"
   ]
  },
  {
   "cell_type": "code",
   "execution_count": 163,
   "metadata": {},
   "outputs": [
    {
     "data": {
      "text/html": [
       "<table>\n",
       "<caption>A tibble: 6 × 3</caption>\n",
       "<thead>\n",
       "\t<tr><th scope=col>size</th><th scope=col>model_string</th><th scope=col>accuracy</th></tr>\n",
       "\t<tr><th scope=col>&lt;int&gt;</th><th scope=col>&lt;chr&gt;</th><th scope=col>&lt;dbl&gt;</th></tr>\n",
       "</thead>\n",
       "<tbody>\n",
       "\t<tr><td>1</td><td>num ~ ca                                  </td><td>0.7403369</td></tr>\n",
       "\t<tr><td>2</td><td>num ~ ca+oldpeak                          </td><td>0.7487589</td></tr>\n",
       "\t<tr><td>3</td><td>num ~ ca+oldpeak+chol                     </td><td>0.7737589</td></tr>\n",
       "\t<tr><td>4</td><td>num ~ ca+oldpeak+chol+age                 </td><td>0.7614362</td></tr>\n",
       "\t<tr><td>5</td><td>num ~ ca+oldpeak+chol+age+thalach         </td><td>0.7696809</td></tr>\n",
       "\t<tr><td>6</td><td>num ~ ca+oldpeak+chol+age+thalach+trestbps</td><td>0.7990248</td></tr>\n",
       "</tbody>\n",
       "</table>\n"
      ],
      "text/latex": [
       "A tibble: 6 × 3\n",
       "\\begin{tabular}{lll}\n",
       " size & model\\_string & accuracy\\\\\n",
       " <int> & <chr> & <dbl>\\\\\n",
       "\\hline\n",
       "\t 1 & num \\textasciitilde{} ca                                   & 0.7403369\\\\\n",
       "\t 2 & num \\textasciitilde{} ca+oldpeak                           & 0.7487589\\\\\n",
       "\t 3 & num \\textasciitilde{} ca+oldpeak+chol                      & 0.7737589\\\\\n",
       "\t 4 & num \\textasciitilde{} ca+oldpeak+chol+age                  & 0.7614362\\\\\n",
       "\t 5 & num \\textasciitilde{} ca+oldpeak+chol+age+thalach          & 0.7696809\\\\\n",
       "\t 6 & num \\textasciitilde{} ca+oldpeak+chol+age+thalach+trestbps & 0.7990248\\\\\n",
       "\\end{tabular}\n"
      ],
      "text/markdown": [
       "\n",
       "A tibble: 6 × 3\n",
       "\n",
       "| size &lt;int&gt; | model_string &lt;chr&gt; | accuracy &lt;dbl&gt; |\n",
       "|---|---|---|\n",
       "| 1 | num ~ ca                                   | 0.7403369 |\n",
       "| 2 | num ~ ca+oldpeak                           | 0.7487589 |\n",
       "| 3 | num ~ ca+oldpeak+chol                      | 0.7737589 |\n",
       "| 4 | num ~ ca+oldpeak+chol+age                  | 0.7614362 |\n",
       "| 5 | num ~ ca+oldpeak+chol+age+thalach          | 0.7696809 |\n",
       "| 6 | num ~ ca+oldpeak+chol+age+thalach+trestbps | 0.7990248 |\n",
       "\n"
      ],
      "text/plain": [
       "  size model_string                               accuracy \n",
       "1 1    num ~ ca                                   0.7403369\n",
       "2 2    num ~ ca+oldpeak                           0.7487589\n",
       "3 3    num ~ ca+oldpeak+chol                      0.7737589\n",
       "4 4    num ~ ca+oldpeak+chol+age                  0.7614362\n",
       "5 5    num ~ ca+oldpeak+chol+age+thalach          0.7696809\n",
       "6 6    num ~ ca+oldpeak+chol+age+thalach+trestbps 0.7990248"
      ]
     },
     "metadata": {},
     "output_type": "display_data"
    }
   ],
   "source": [
    "#View the estimated model accuracy for each combination of predictors\n",
    "accuracies_fs"
   ]
  },
  {
   "cell_type": "markdown",
   "metadata": {},
   "source": [
    "##### **Table 4. Estimated Accuracy vs Predictor Combinations**\n",
    "As the number of predictors increases, so too does the model accuracy for that combination of predictors.\n"
   ]
  },
  {
   "cell_type": "markdown",
   "metadata": {},
   "source": [
    "To find the best number of predictors, we will plot an estimated accuracy vs. number of predictors line and point graph."
   ]
  },
  {
   "cell_type": "code",
   "execution_count": 164,
   "metadata": {},
   "outputs": [
    {
     "data": {
      "image/png": "[encoded data removed]",
      "text/plain": [
       "plot without title"
      ]
     },
     "metadata": {
      "image/png": {
       "height": 420,
       "width": 420
      }
     },
     "output_type": "display_data"
    }
   ],
   "source": [
    "#Plot the accuracy per number of predictors\n",
    "accuracy_vs_predictors <- ggplot(accuracies_fs, aes(x = size, y = accuracy)) +\n",
    "  geom_point() +\n",
    "  geom_line() +\n",
    "  labs(x = \"Number of Predictors\", y = \"Estimated Accuracy\") + \n",
    "  theme(text = element_text(size = 12))\n",
    "accuracy_vs_predictors"
   ]
  },
  {
   "cell_type": "markdown",
   "metadata": {},
   "source": [
    "##### **Figure 5. Estimated Accuracy vs Number of Predictors**\n",
    "There appears to be a strong positive linear trend between the number of predictors and the estimated model accuracy. No distinct elbow was observed in the plot. The highest estimated accuracy occurred when all 6 numerical predictors were included in the model."
   ]
  },
  {
   "cell_type": "markdown",
   "metadata": {},
   "source": [
    "## Discussion"
   ]
  },
  {
   "cell_type": "markdown",
   "metadata": {},
   "source": [
    "### Main Findings\n",
    "Based on literature review, all 6 numerical predictors in the dataset were suggested to be associated with heart disease. By building a k-NN classification model and performing K-tuning, it was found that the optimal number of neighbors was 5 and that the model was 79% accurate. A K-value of 5 was selected as the optimal number of neighbors due to a decreased rate of change in accuracy between nearby K values, suggesting that the model will likely be robust against uncertainty. Additionally, the highest estimated model accuracy was achieved at this threshold. Close values in the estimated model accuracy between the test (79%) and training data (82%) sets suggest that the model is likely not overfitting or underfitting the data. Hence it is able to reliably make consistent predictions for unseen data.\n",
    "\n",
    "Out of 58 observations in the testing dataset, 46 were correctly labeled. Of the incorrect predictions, 7 observations were predicted as having heart disease when they were healthy and 5 were predicted as healthy when actually diseased. The detection of heart disease is considered a positive hit. An 8.6% false-negative rate is undesirable, as patients would not receive timely treatment. A false-positive rate of 12% is tolerable as it may indicate patients who are at high risk of heart disease and would undergo additional testing. \n",
    "\n",
    "To determine whether all 6 of these predictors were necessary for building a model with the highest accuracy, forward selection was performed to identify relevant and irrelevant predictors. It was found that a model that included all 6 predictors produced the highest model accuracy at 80%. When the predictors age and thalach were included in the model, there was a slight decrease in model accuracy. However, because this change was about 0.01 or lower, these predictors were still considered relevant. The results of the forward selection support our decision and initial model that the inclusion of all 6 predictors is relevant for building more accurate models for heart disease prediction.\n",
    "\n",
    "### Expectations\n",
    "As we were able to find supporting literature for each predictor’s relation to heart disease, the relevancy of all predictors included in our model was as expected. Through forward selection, the results also showed that some predictors such as age were less relevant than others as seen by their effect on the estimated model accuracy. \n",
    "\n",
    "What was unexpected was an accuracy rate of only 80%. For diagnostic applications, this rate is likely not high enough as mislabelling can have serious implications on the health outcomes of individuals mislabelled. This suggests that the model could be improved by including more numerical predictors relevant to heart disease not included in this dataset.\n",
    "\n",
    "### Implications\n",
    "Given our results above, we conclude that all six predictors used are beneficial to increasing model accuracy. This result suggests that these predictors are adequate classifiers of heart disease and should be included in future models for classifying heart disease. Thus, these findings could help practitioners diagnose heart disease more accurately, by only considering relevant predictor metrics.\n",
    "\n",
    "However, our prediction accuracy rate with all six predictors is shown to be 80%. Thus, there remains a possibility of other classifiers that may increase the model accuracy rate. Therefore, as data scientists strive to improve their models, these findings may spur more experimentation and research in finding other classifiers that might be relevant to heart disease and increase model accuracy. Knowing the relevant predictors will also provide scientists a direction for research, and thus help them find factors that are likely to be relevant than not. (eg. scientists may research more into cholesterol, etc.). \n",
    "\n",
    "With regards to impact on patient treatment, by identifying what metrics are relevant to the prognosis of heart disease, the metrics could also be tracked to monitor patient progression and aid in a response to treatment.\n",
    "\n",
    "Knowing relevant factors could also improve the diagnosis of heart disease, as classifiers with these relevant predictors could be used to perform a preliminary screen on who is likely to have heart disease and requires a more extensive follow-up for an official diagnosis. As a result, these findings could also improve the efficiency, cost, and accuracy of the diagnosis of heart disease.\n",
    "\n",
    "### Future Questions \n",
    "Future questions from our findings include the following. Since only using the Cleveland data provided by the whole heart disease dataset, will the results of other geographic locations be different from Cleveland? Will the difference be significant? Additionally, would a larger sample size provide more accurate generalizations for global populations? \n",
    "\n",
    "Furthermore, because only the Cleveland dataset was used to train the classifier, it is possible that only considering this data set may have introduced a geographical bias. As such, a future direction could be to analyze the accuracy of the classifier in predicting heart disease for different countries (developed vs undeveloped countries), and see if the background of where a person lives affects model accuracy in predicting of heart disease. \n",
    "\n",
    "A further direction could be to identify additional numerical predictors, not included in this dataset, that could improve model accuracy. To include non-numerical predictors in predicting whether an individual has heart disease or now, other classification models aside from k-NN classification could also be explored and evaluated against k-NN classification. These other predictors relevant to heart disease could include whether a person has prior health complications if a person was ever pregnant or not, and if they have a family history of heart problems\n",
    "\n",
    "Another follow up direction would be to investigate if the prediction of heart disease can be sub-categorized into different heart disease types and see which indicator has the biggest impact on predicting which type. Different heart disease types that can be investigated include heart valve disease, congenital heart disease, and heart arrhythmias.\n",
    " "
   ]
  },
  {
   "cell_type": "markdown",
   "metadata": {},
   "source": [
    "## References\n",
    "\n",
    "1. Heart Disease Data Set. (1988, July 1). UCI Machine Learning Repository. Retrieved March 5, 2022, from https://archive.ics.uci.edu/ml/datasets/Heart+Disease\n",
    "2. U.S. Department of Health and Human Services. (n.d.). Heart health and aging. National Institute on Aging. Retrieved April 2, 2022, from https://www.nia.nih.gov/health/heart-health-and-aging  \n",
    "3. Rodgers, J. L., Jones, J., Bolleddu, S. I., Vanthenapalli, S., Rodgers, L. E., Shah, K., Karia, K., & Panguluri, S. K. (2019, April 27). Cardiovascular risks associated with gender and aging. Journal of cardiovascular development and disease. Retrieved April 4, 2022, from https://www.ncbi.nlm.nih.gov/pmc/articles/PMC6616540/ \n",
    "4. UT Southwestern Medical Center. (2016, June 6). Retrieved April 2, 2022, from https://utswmed.org/medblog/high-blood-pressure-heart-disease/ \n",
    "5. WebMD. (2020, July 2). Cholesterol and heart disease. WebMD. Retrieved April 2, 2022, from https://www.webmd.com/heart-disease/guide/heart-disease-lower-cholesterol-risk \n",
    "6. What your heart rate is telling you. Harvard Health. (2020, August 30). Retrieved April 3, 2022, from https://www.health.harvard.edu/heart-health/what-your-heart-rate-is-telling-you \n",
    "7. Pollehn, T., Brady, W. J., Perron, A. D., & Morris, F. (2002, March 1). The electrocardiographic differential diagnosis of st segment depression. Emergency Medicine Journal. Retrieved April 4, 2022, from https://emj.bmj.com/content/19/2/129 \n",
    "8. Project McNulty: Estimating the risk of heart disease. CH. (2015, May 15). Retrieved April 3, 2022, from https://lucdemortier.github.io/projects/3_mcnulty "
   ]
  },
  {
   "cell_type": "markdown",
   "metadata": {},
   "source": [
    "## Appendix\n",
    "\n",
    "| Attribute      | Description |\n",
    "| ----------- | ----------- |\n",
    "| age         | age       |\n",
    "| sex         | sex         |\n",
    "| cp          | chest pain |\n",
    "| trestbps    | resting blood pressure |\n",
    "| chol        | cholesterol |\n",
    "| fbs         | fasting blood sugar |\n",
    "| restecg     | resting electrocardiographic results |\n",
    "| thalach     | maximum heart rate record |\n",
    "| exang       | exercise induced angia |\n",
    "| oldpeak     | ST depression indiced by exercise relative to rest |\n",
    "| slope       | slope of peak exercise ST segment |\n",
    "| ca          | number of major vessels coloured by fluoroscopy |\n",
    "| thal        | thalassemia |\n",
    "| num         | predicted attribute |\n",
    "\n",
    "\n",
    "\n"
   ]
  }
 ],
 "metadata": {
  "kernelspec": {
   "display_name": "R",
   "language": "R",
   "name": "ir"
  },
  "language_info": {
   "codemirror_mode": "r",
   "file_extension": ".r",
   "mimetype": "text/x-r-source",
   "name": "R",
   "pygments_lexer": "r",
   "version": "4.0.0"
  }
 },
 "nbformat": 4,
 "nbformat_minor": 4
}
