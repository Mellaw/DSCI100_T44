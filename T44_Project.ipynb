{
 "cells": [
  {
   "cell_type": "markdown",
   "metadata": {},
   "source": [
    "## DSCI 100 Project Proposal Team 44"
   ]
  },
  {
   "cell_type": "markdown",
   "metadata": {},
   "source": [
    "# Project Title: Determining The Best Predictors Heart Disease"
   ]
  },
  {
   "cell_type": "markdown",
   "metadata": {},
   "source": [
    "## Introduction\n",
    "\n",
    "Heart disease or failure is a condition where the heart muscle of the afflicted cannot pump blood as efficiently due to a structural defect, compared to a person without the condition. Quick diagnosis and implementation of treatments may be able to drastically improve someone's chances of living through heart disease.\n",
    "\n",
    "The question we will be trying to answer with our project is the following: \n",
    "Which attributes are the best and worst for predicting heart disease? What attributes are relevant?\n",
    "\n",
    "In this project, we hope to accomplish the following three things:\n",
    "1. Make a training model that can accurately predict whether a person has a heart disease given certain classifiers and what stage of heart disease they have.\n",
    "2. Determine the correlation of heart disease with the 13 classifiers excluding num. (See Appendix) \n",
    "3. Compare the accuracy of models trained under specific classifiers by testing the result of the predictions against the clinical data.\n",
    "\n",
    "We will be using the processed Cleveland data provided by the UCI Machine Learning Repository. The main attributes we will be looking into include the ones numbered 1-14 as seen on the listed attributes on the website. Initially, there were 6 observations that contained missing information that we decided to remove from the overall data set we decided to use. All columns of the data set contain quantitative data with certain values corresponding to a meaning. \n"
   ]
  },
  {
   "cell_type": "markdown",
   "metadata": {},
   "source": [
    "## Methods & Results"
   ]
  },
  {
   "cell_type": "code",
   "execution_count": 73,
   "metadata": {},
   "outputs": [],
   "source": [
    "#install.packages(\"corrplot\")"
   ]
  },
  {
   "cell_type": "code",
   "execution_count": 74,
   "metadata": {},
   "outputs": [],
   "source": [
    "#Loading relevant libraries\n",
    "library(tidyverse)\n",
    "library(repr)\n",
    "library(tidymodels)\n",
    "#library(corrplot)"
   ]
  },
  {
   "cell_type": "code",
   "execution_count": 75,
   "metadata": {},
   "outputs": [
    {
     "name": "stderr",
     "output_type": "stream",
     "text": [
      "Parsed with column specification:\n",
      "cols(\n",
      "  X1 = \u001b[32mcol_double()\u001b[39m,\n",
      "  X2 = \u001b[32mcol_double()\u001b[39m,\n",
      "  X3 = \u001b[32mcol_double()\u001b[39m,\n",
      "  X4 = \u001b[32mcol_double()\u001b[39m,\n",
      "  X5 = \u001b[32mcol_double()\u001b[39m,\n",
      "  X6 = \u001b[32mcol_double()\u001b[39m,\n",
      "  X7 = \u001b[32mcol_double()\u001b[39m,\n",
      "  X8 = \u001b[32mcol_double()\u001b[39m,\n",
      "  X9 = \u001b[32mcol_double()\u001b[39m,\n",
      "  X10 = \u001b[32mcol_double()\u001b[39m,\n",
      "  X11 = \u001b[32mcol_double()\u001b[39m,\n",
      "  X12 = \u001b[31mcol_character()\u001b[39m,\n",
      "  X13 = \u001b[31mcol_character()\u001b[39m,\n",
      "  X14 = \u001b[32mcol_double()\u001b[39m\n",
      ")\n",
      "\n",
      "Warning message:\n",
      "“Problem with `mutate()` input `ca`.\n",
      "\u001b[34mℹ\u001b[39m NAs introduced by coercion\n",
      "\u001b[34mℹ\u001b[39m Input `ca` is `as.numeric(ca)`.”\n",
      "Warning message in mask$eval_all_mutate(dots[[i]]):\n",
      "“NAs introduced by coercion”\n",
      "Warning message:\n",
      "“Problem with `mutate()` input `thal`.\n",
      "\u001b[34mℹ\u001b[39m NAs introduced by coercion\n",
      "\u001b[34mℹ\u001b[39m Input `thal` is `as.numeric(thal)`.”\n",
      "Warning message in mask$eval_all_mutate(dots[[i]]):\n",
      "“NAs introduced by coercion”\n"
     ]
    },
    {
     "data": {
      "text/html": [
       "<table>\n",
       "<caption>A tibble: 6 × 8</caption>\n",
       "<thead>\n",
       "\t<tr><th scope=col>age</th><th scope=col>sex</th><th scope=col>trestbps</th><th scope=col>chol</th><th scope=col>thalach</th><th scope=col>oldpeak</th><th scope=col>ca</th><th scope=col>num</th></tr>\n",
       "\t<tr><th scope=col>&lt;dbl&gt;</th><th scope=col>&lt;chr&gt;</th><th scope=col>&lt;dbl&gt;</th><th scope=col>&lt;dbl&gt;</th><th scope=col>&lt;dbl&gt;</th><th scope=col>&lt;dbl&gt;</th><th scope=col>&lt;dbl&gt;</th><th scope=col>&lt;fct&gt;</th></tr>\n",
       "</thead>\n",
       "<tbody>\n",
       "\t<tr><td>63</td><td>male  </td><td>145</td><td>233</td><td>150</td><td>2.3</td><td>0</td><td>healthy</td></tr>\n",
       "\t<tr><td>67</td><td>male  </td><td>160</td><td>286</td><td>108</td><td>1.5</td><td>3</td><td>disease</td></tr>\n",
       "\t<tr><td>67</td><td>male  </td><td>120</td><td>229</td><td>129</td><td>2.6</td><td>2</td><td>disease</td></tr>\n",
       "\t<tr><td>37</td><td>male  </td><td>130</td><td>250</td><td>187</td><td>3.5</td><td>0</td><td>healthy</td></tr>\n",
       "\t<tr><td>41</td><td>female</td><td>130</td><td>204</td><td>172</td><td>1.4</td><td>0</td><td>healthy</td></tr>\n",
       "\t<tr><td>56</td><td>male  </td><td>120</td><td>236</td><td>178</td><td>0.8</td><td>0</td><td>healthy</td></tr>\n",
       "</tbody>\n",
       "</table>\n"
      ],
      "text/latex": [
       "A tibble: 6 × 8\n",
       "\\begin{tabular}{llllllll}\n",
       " age & sex & trestbps & chol & thalach & oldpeak & ca & num\\\\\n",
       " <dbl> & <chr> & <dbl> & <dbl> & <dbl> & <dbl> & <dbl> & <fct>\\\\\n",
       "\\hline\n",
       "\t 63 & male   & 145 & 233 & 150 & 2.3 & 0 & healthy\\\\\n",
       "\t 67 & male   & 160 & 286 & 108 & 1.5 & 3 & disease\\\\\n",
       "\t 67 & male   & 120 & 229 & 129 & 2.6 & 2 & disease\\\\\n",
       "\t 37 & male   & 130 & 250 & 187 & 3.5 & 0 & healthy\\\\\n",
       "\t 41 & female & 130 & 204 & 172 & 1.4 & 0 & healthy\\\\\n",
       "\t 56 & male   & 120 & 236 & 178 & 0.8 & 0 & healthy\\\\\n",
       "\\end{tabular}\n"
      ],
      "text/markdown": [
       "\n",
       "A tibble: 6 × 8\n",
       "\n",
       "| age &lt;dbl&gt; | sex &lt;chr&gt; | trestbps &lt;dbl&gt; | chol &lt;dbl&gt; | thalach &lt;dbl&gt; | oldpeak &lt;dbl&gt; | ca &lt;dbl&gt; | num &lt;fct&gt; |\n",
       "|---|---|---|---|---|---|---|---|\n",
       "| 63 | male   | 145 | 233 | 150 | 2.3 | 0 | healthy |\n",
       "| 67 | male   | 160 | 286 | 108 | 1.5 | 3 | disease |\n",
       "| 67 | male   | 120 | 229 | 129 | 2.6 | 2 | disease |\n",
       "| 37 | male   | 130 | 250 | 187 | 3.5 | 0 | healthy |\n",
       "| 41 | female | 130 | 204 | 172 | 1.4 | 0 | healthy |\n",
       "| 56 | male   | 120 | 236 | 178 | 0.8 | 0 | healthy |\n",
       "\n"
      ],
      "text/plain": [
       "  age sex    trestbps chol thalach oldpeak ca num    \n",
       "1 63  male   145      233  150     2.3     0  healthy\n",
       "2 67  male   160      286  108     1.5     3  disease\n",
       "3 67  male   120      229  129     2.6     2  disease\n",
       "4 37  male   130      250  187     3.5     0  healthy\n",
       "5 41  female 130      204  172     1.4     0  healthy\n",
       "6 56  male   120      236  178     0.8     0  healthy"
      ]
     },
     "metadata": {},
     "output_type": "display_data"
    }
   ],
   "source": [
    "set.seed(800)\n",
    "\n",
    "#Read data in from UCI website\n",
    "data <- read_csv(\"https://archive.ics.uci.edu/ml/machine-learning-databases/heart-disease/processed.cleveland.data\",\n",
    "                 col_names = FALSE )\n",
    "\n",
    "#Add column names\n",
    "attributes <-  c(\"age\", 'sex','cp', 'trestbps', 'chol', 'fbs', 'restecg',\n",
    "                 'thalach', 'exang', 'oldpeak', 'slope', 'ca', 'thal', 'num')\n",
    "colnames(data) <- attributes\n",
    "\n",
    "#Remove NA values and reformat data types to correct type\n",
    "data <- data %>%\n",
    "  mutate(oldpeak = as.numeric(oldpeak),\n",
    "         ca = as.numeric(ca),\n",
    "         thal = as.numeric(thal)) %>% \n",
    "  filter(!is.na(ca),\n",
    "         !is.na(thal))\n",
    "\n",
    "#Remove categorial predictors \n",
    "data <-  data %>% \n",
    "    select(-c(cp, fbs, restecg, exang, slope, thal))\n",
    "\n",
    "#Convert the prediction label into a factor\n",
    "data <- data %>%\n",
    "  mutate(num = ifelse(num > 0,\"disease\",\"healthy\")) %>% \n",
    "  mutate(num = as_factor(num)) %>% \n",
    "  mutate(sex = ifelse(sex == 1 ,\"male\",\"female\"))\n",
    "\n",
    "head(data)"
   ]
  },
  {
   "cell_type": "code",
   "execution_count": 76,
   "metadata": {},
   "outputs": [
    {
     "data": {
      "text/html": [
       "<table>\n",
       "<caption>A tibble: 6 × 8</caption>\n",
       "<thead>\n",
       "\t<tr><th scope=col>age</th><th scope=col>sex</th><th scope=col>trestbps</th><th scope=col>chol</th><th scope=col>thalach</th><th scope=col>oldpeak</th><th scope=col>ca</th><th scope=col>num</th></tr>\n",
       "\t<tr><th scope=col>&lt;dbl&gt;</th><th scope=col>&lt;chr&gt;</th><th scope=col>&lt;dbl&gt;</th><th scope=col>&lt;dbl&gt;</th><th scope=col>&lt;dbl&gt;</th><th scope=col>&lt;dbl&gt;</th><th scope=col>&lt;dbl&gt;</th><th scope=col>&lt;fct&gt;</th></tr>\n",
       "</thead>\n",
       "<tbody>\n",
       "\t<tr><td>67</td><td>male  </td><td>160</td><td>286</td><td>108</td><td>1.5</td><td>3</td><td>disease</td></tr>\n",
       "\t<tr><td>37</td><td>male  </td><td>130</td><td>250</td><td>187</td><td>3.5</td><td>0</td><td>healthy</td></tr>\n",
       "\t<tr><td>41</td><td>female</td><td>130</td><td>204</td><td>172</td><td>1.4</td><td>0</td><td>healthy</td></tr>\n",
       "\t<tr><td>56</td><td>male  </td><td>120</td><td>236</td><td>178</td><td>0.8</td><td>0</td><td>healthy</td></tr>\n",
       "\t<tr><td>62</td><td>female</td><td>140</td><td>268</td><td>160</td><td>3.6</td><td>2</td><td>disease</td></tr>\n",
       "\t<tr><td>57</td><td>female</td><td>120</td><td>354</td><td>163</td><td>0.6</td><td>0</td><td>healthy</td></tr>\n",
       "</tbody>\n",
       "</table>\n"
      ],
      "text/latex": [
       "A tibble: 6 × 8\n",
       "\\begin{tabular}{llllllll}\n",
       " age & sex & trestbps & chol & thalach & oldpeak & ca & num\\\\\n",
       " <dbl> & <chr> & <dbl> & <dbl> & <dbl> & <dbl> & <dbl> & <fct>\\\\\n",
       "\\hline\n",
       "\t 67 & male   & 160 & 286 & 108 & 1.5 & 3 & disease\\\\\n",
       "\t 37 & male   & 130 & 250 & 187 & 3.5 & 0 & healthy\\\\\n",
       "\t 41 & female & 130 & 204 & 172 & 1.4 & 0 & healthy\\\\\n",
       "\t 56 & male   & 120 & 236 & 178 & 0.8 & 0 & healthy\\\\\n",
       "\t 62 & female & 140 & 268 & 160 & 3.6 & 2 & disease\\\\\n",
       "\t 57 & female & 120 & 354 & 163 & 0.6 & 0 & healthy\\\\\n",
       "\\end{tabular}\n"
      ],
      "text/markdown": [
       "\n",
       "A tibble: 6 × 8\n",
       "\n",
       "| age &lt;dbl&gt; | sex &lt;chr&gt; | trestbps &lt;dbl&gt; | chol &lt;dbl&gt; | thalach &lt;dbl&gt; | oldpeak &lt;dbl&gt; | ca &lt;dbl&gt; | num &lt;fct&gt; |\n",
       "|---|---|---|---|---|---|---|---|\n",
       "| 67 | male   | 160 | 286 | 108 | 1.5 | 3 | disease |\n",
       "| 37 | male   | 130 | 250 | 187 | 3.5 | 0 | healthy |\n",
       "| 41 | female | 130 | 204 | 172 | 1.4 | 0 | healthy |\n",
       "| 56 | male   | 120 | 236 | 178 | 0.8 | 0 | healthy |\n",
       "| 62 | female | 140 | 268 | 160 | 3.6 | 2 | disease |\n",
       "| 57 | female | 120 | 354 | 163 | 0.6 | 0 | healthy |\n",
       "\n"
      ],
      "text/plain": [
       "  age sex    trestbps chol thalach oldpeak ca num    \n",
       "1 67  male   160      286  108     1.5     3  disease\n",
       "2 37  male   130      250  187     3.5     0  healthy\n",
       "3 41  female 130      204  172     1.4     0  healthy\n",
       "4 56  male   120      236  178     0.8     0  healthy\n",
       "5 62  female 140      268  160     3.6     2  disease\n",
       "6 57  female 120      354  163     0.6     0  healthy"
      ]
     },
     "metadata": {},
     "output_type": "display_data"
    }
   ],
   "source": [
    "set.seed(800)\n",
    "\n",
    "heart_split <- initial_split(data, prop = 0.8, strata = num)\n",
    "heart_train <- training(heart_split)\n",
    "heart_test <- testing(heart_split)   \n",
    "\n",
    "head(heart_train)\n"
   ]
  },
  {
   "cell_type": "markdown",
   "metadata": {},
   "source": [
    "### Exploratory Data Analysis"
   ]
  },
  {
   "cell_type": "code",
   "execution_count": 77,
   "metadata": {},
   "outputs": [
    {
     "name": "stderr",
     "output_type": "stream",
     "text": [
      "`summarise()` ungrouping output (override with `.groups` argument)\n",
      "\n"
     ]
    },
    {
     "data": {
      "text/html": [
       "<table>\n",
       "<caption>A tibble: 2 × 3</caption>\n",
       "<thead>\n",
       "\t<tr><th scope=col>disease</th><th scope=col>count</th><th scope=col>percent</th></tr>\n",
       "\t<tr><th scope=col>&lt;fct&gt;</th><th scope=col>&lt;int&gt;</th><th scope=col>&lt;dbl&gt;</th></tr>\n",
       "</thead>\n",
       "<tbody>\n",
       "\t<tr><td>healthy</td><td>129</td><td>53.9749</td></tr>\n",
       "\t<tr><td>disease</td><td>110</td><td>46.0251</td></tr>\n",
       "</tbody>\n",
       "</table>\n"
      ],
      "text/latex": [
       "A tibble: 2 × 3\n",
       "\\begin{tabular}{lll}\n",
       " disease & count & percent\\\\\n",
       " <fct> & <int> & <dbl>\\\\\n",
       "\\hline\n",
       "\t healthy & 129 & 53.9749\\\\\n",
       "\t disease & 110 & 46.0251\\\\\n",
       "\\end{tabular}\n"
      ],
      "text/markdown": [
       "\n",
       "A tibble: 2 × 3\n",
       "\n",
       "| disease &lt;fct&gt; | count &lt;int&gt; | percent &lt;dbl&gt; |\n",
       "|---|---|---|\n",
       "| healthy | 129 | 53.9749 |\n",
       "| disease | 110 | 46.0251 |\n",
       "\n"
      ],
      "text/plain": [
       "  disease count percent\n",
       "1 healthy 129   53.9749\n",
       "2 disease 110   46.0251"
      ]
     },
     "metadata": {},
     "output_type": "display_data"
    },
    {
     "name": "stderr",
     "output_type": "stream",
     "text": [
      "`summarise()` ungrouping output (override with `.groups` argument)\n",
      "\n"
     ]
    },
    {
     "data": {
      "text/html": [
       "<table>\n",
       "<caption>A tibble: 6 × 8</caption>\n",
       "<thead>\n",
       "\t<tr><th scope=col>predictor</th><th scope=col>mean</th><th scope=col>std_dev</th><th scope=col>median</th><th scope=col>max</th><th scope=col>min</th><th scope=col>quartile.1</th><th scope=col>quartile.3</th></tr>\n",
       "\t<tr><th scope=col>&lt;chr&gt;</th><th scope=col>&lt;dbl&gt;</th><th scope=col>&lt;dbl&gt;</th><th scope=col>&lt;dbl&gt;</th><th scope=col>&lt;dbl&gt;</th><th scope=col>&lt;dbl&gt;</th><th scope=col>&lt;dbl&gt;</th><th scope=col>&lt;dbl&gt;</th></tr>\n",
       "</thead>\n",
       "<tbody>\n",
       "\t<tr><td>age     </td><td> 54.5774059</td><td> 9.2487378</td><td> 56.0</td><td> 77.0</td><td> 29</td><td> 47.0</td><td> 61.0</td></tr>\n",
       "\t<tr><td>ca      </td><td>  0.6987448</td><td> 0.9577407</td><td>  0.0</td><td>  3.0</td><td>  0</td><td>  0.0</td><td>  1.0</td></tr>\n",
       "\t<tr><td>chol    </td><td>249.3430962</td><td>53.4072614</td><td>244.0</td><td>564.0</td><td>126</td><td>211.5</td><td>279.5</td></tr>\n",
       "\t<tr><td>oldpeak </td><td>  1.0602510</td><td> 1.1954613</td><td>  0.8</td><td>  6.2</td><td>  0</td><td>  0.0</td><td>  1.6</td></tr>\n",
       "\t<tr><td>thalach </td><td>150.0502092</td><td>23.0077990</td><td>153.0</td><td>202.0</td><td> 71</td><td>138.0</td><td>165.0</td></tr>\n",
       "\t<tr><td>trestbps</td><td>132.2217573</td><td>17.2150568</td><td>130.0</td><td>200.0</td><td> 94</td><td>120.0</td><td>140.0</td></tr>\n",
       "</tbody>\n",
       "</table>\n"
      ],
      "text/latex": [
       "A tibble: 6 × 8\n",
       "\\begin{tabular}{llllllll}\n",
       " predictor & mean & std\\_dev & median & max & min & quartile.1 & quartile.3\\\\\n",
       " <chr> & <dbl> & <dbl> & <dbl> & <dbl> & <dbl> & <dbl> & <dbl>\\\\\n",
       "\\hline\n",
       "\t age      &  54.5774059 &  9.2487378 &  56.0 &  77.0 &  29 &  47.0 &  61.0\\\\\n",
       "\t ca       &   0.6987448 &  0.9577407 &   0.0 &   3.0 &   0 &   0.0 &   1.0\\\\\n",
       "\t chol     & 249.3430962 & 53.4072614 & 244.0 & 564.0 & 126 & 211.5 & 279.5\\\\\n",
       "\t oldpeak  &   1.0602510 &  1.1954613 &   0.8 &   6.2 &   0 &   0.0 &   1.6\\\\\n",
       "\t thalach  & 150.0502092 & 23.0077990 & 153.0 & 202.0 &  71 & 138.0 & 165.0\\\\\n",
       "\t trestbps & 132.2217573 & 17.2150568 & 130.0 & 200.0 &  94 & 120.0 & 140.0\\\\\n",
       "\\end{tabular}\n"
      ],
      "text/markdown": [
       "\n",
       "A tibble: 6 × 8\n",
       "\n",
       "| predictor &lt;chr&gt; | mean &lt;dbl&gt; | std_dev &lt;dbl&gt; | median &lt;dbl&gt; | max &lt;dbl&gt; | min &lt;dbl&gt; | quartile.1 &lt;dbl&gt; | quartile.3 &lt;dbl&gt; |\n",
       "|---|---|---|---|---|---|---|---|\n",
       "| age      |  54.5774059 |  9.2487378 |  56.0 |  77.0 |  29 |  47.0 |  61.0 |\n",
       "| ca       |   0.6987448 |  0.9577407 |   0.0 |   3.0 |   0 |   0.0 |   1.0 |\n",
       "| chol     | 249.3430962 | 53.4072614 | 244.0 | 564.0 | 126 | 211.5 | 279.5 |\n",
       "| oldpeak  |   1.0602510 |  1.1954613 |   0.8 |   6.2 |   0 |   0.0 |   1.6 |\n",
       "| thalach  | 150.0502092 | 23.0077990 | 153.0 | 202.0 |  71 | 138.0 | 165.0 |\n",
       "| trestbps | 132.2217573 | 17.2150568 | 130.0 | 200.0 |  94 | 120.0 | 140.0 |\n",
       "\n"
      ],
      "text/plain": [
       "  predictor mean        std_dev    median max   min quartile.1 quartile.3\n",
       "1 age        54.5774059  9.2487378  56.0   77.0  29  47.0       61.0     \n",
       "2 ca          0.6987448  0.9577407   0.0    3.0   0   0.0        1.0     \n",
       "3 chol      249.3430962 53.4072614 244.0  564.0 126 211.5      279.5     \n",
       "4 oldpeak     1.0602510  1.1954613   0.8    6.2   0   0.0        1.6     \n",
       "5 thalach   150.0502092 23.0077990 153.0  202.0  71 138.0      165.0     \n",
       "6 trestbps  132.2217573 17.2150568 130.0  200.0  94 120.0      140.0     "
      ]
     },
     "metadata": {},
     "output_type": "display_data"
    },
    {
     "name": "stderr",
     "output_type": "stream",
     "text": [
      "`summarise()` regrouping output by 'num' (override with `.groups` argument)\n",
      "\n"
     ]
    },
    {
     "data": {
      "text/html": [
       "<table>\n",
       "<caption>A grouped_df: 4 × 3</caption>\n",
       "<thead>\n",
       "\t<tr><th scope=col>num</th><th scope=col>sex</th><th scope=col>n</th></tr>\n",
       "\t<tr><th scope=col>&lt;fct&gt;</th><th scope=col>&lt;chr&gt;</th><th scope=col>&lt;int&gt;</th></tr>\n",
       "</thead>\n",
       "<tbody>\n",
       "\t<tr><td>healthy</td><td>female</td><td>52</td></tr>\n",
       "\t<tr><td>healthy</td><td>male  </td><td>77</td></tr>\n",
       "\t<tr><td>disease</td><td>female</td><td>20</td></tr>\n",
       "\t<tr><td>disease</td><td>male  </td><td>90</td></tr>\n",
       "</tbody>\n",
       "</table>\n"
      ],
      "text/latex": [
       "A grouped\\_df: 4 × 3\n",
       "\\begin{tabular}{lll}\n",
       " num & sex & n\\\\\n",
       " <fct> & <chr> & <int>\\\\\n",
       "\\hline\n",
       "\t healthy & female & 52\\\\\n",
       "\t healthy & male   & 77\\\\\n",
       "\t disease & female & 20\\\\\n",
       "\t disease & male   & 90\\\\\n",
       "\\end{tabular}\n"
      ],
      "text/markdown": [
       "\n",
       "A grouped_df: 4 × 3\n",
       "\n",
       "| num &lt;fct&gt; | sex &lt;chr&gt; | n &lt;int&gt; |\n",
       "|---|---|---|\n",
       "| healthy | female | 52 |\n",
       "| healthy | male   | 77 |\n",
       "| disease | female | 20 |\n",
       "| disease | male   | 90 |\n",
       "\n"
      ],
      "text/plain": [
       "  num     sex    n \n",
       "1 healthy female 52\n",
       "2 healthy male   77\n",
       "3 disease female 20\n",
       "4 disease male   90"
      ]
     },
     "metadata": {},
     "output_type": "display_data"
    }
   ],
   "source": [
    "set.seed(800)\n",
    "\n",
    "# Exploratory Tables ------------------------------------------------------\n",
    "heart_proportions <- heart_train %>% \n",
    "  group_by(num) %>% \n",
    "  summarize(n = n()) %>% \n",
    "  mutate(percent = 100*n/nrow(heart_train))%>%\n",
    "  rename(\"disease\" = num,\n",
    "         \"count\" = n)\n",
    "heart_proportions\n",
    "\n",
    "summary <- heart_train %>%\n",
    "  select(-c(num,sex)) %>% \n",
    "  pivot_longer(everything()) %>%\n",
    "  arrange(name) %>%\n",
    "  group_by(name) %>%\n",
    "  summarize(\n",
    "    mean = mean(value),\n",
    "    std_dev = sd(value),\n",
    "    median = median(value),\n",
    "    max = max(value),\n",
    "    min = min(value),\n",
    "    quartile.1 = quantile(value, 0.25),\n",
    "    quartile.3 = quantile(value, 0.75)) %>%\n",
    "  rename(\"predictor\" = name)\n",
    "summary\n",
    "\n",
    "\n",
    "num_char <- heart_train %>% \n",
    "  select(num, sex, age) %>% \n",
    "  group_by(num, sex) %>% \n",
    "  summarise(n = n())\n",
    "num_char\n"
   ]
  },
  {
   "cell_type": "code",
   "execution_count": 78,
   "metadata": {},
   "outputs": [
    {
     "data": {
      "image/png": "[encoded data removed]",
      "text/plain": [
       "plot without title"
      ]
     },
     "metadata": {
      "image/png": {
       "height": 420,
       "width": 420
      }
     },
     "output_type": "display_data"
    },
    {
     "data": {
      "image/png": "[encoded data removed]",
      "text/plain": [
       "plot without title"
      ]
     },
     "metadata": {
      "image/png": {
       "height": 420,
       "width": 420
      }
     },
     "output_type": "display_data"
    }
   ],
   "source": [
    "# Visualizations ----------------------------------------------------------\n",
    "\n",
    "#Grouped barchart for sex vs heart disease\n",
    "sex_bar_plot <- num_char %>% \n",
    "  ggplot(aes(x = num, y = n, fill = sex))+\n",
    "  geom_bar(position=\"dodge\", stat=\"identity\")+\n",
    "  labs(x = \"Heart Disease\", y = \"Patients\", fill = \"Sex\")+\n",
    "  theme_bw()+\n",
    "  ggtitle(\"Presence of Heart Disease Across Gender\")\n",
    "sex_bar_plot\n",
    "\n",
    "#age box plot\n",
    "age_box_plot <- heart_train %>% \n",
    "  ggplot(aes(x= as.factor(num), y = age))+\n",
    "  geom_boxplot()+\n",
    "  labs(x = \"Heart Disease\", y = \"Age\")+\n",
    "  theme_bw()+\n",
    "  ggtitle(\"Distribution of Age Across Heart Disease\")\n",
    "age_box_plot"
   ]
  },
  {
   "cell_type": "markdown",
   "metadata": {},
   "source": [
    "### Data Exploration Summary \n",
    "\n",
    "Based on the exploratory data analysis performed above: \n",
    " - There seems to be a sex bias, where there is a higher incidence rate of heart disease in men. Stratifying by sex could produce more accurate classifier since men and woman dont' appear to be affected the same\n",
    " - The dataset contains simular numbers of those with heartdisease and without\n",
    " - The median age of those with heart disease is greater than healthy individuals. Is possible that the classifier will be more accurate for predicting disease status for those aged 45-65, as the majority of indiviudals with heart disease fall in this age range\n"
   ]
  },
  {
   "cell_type": "markdown",
   "metadata": {},
   "source": [
    "### Knn Classification"
   ]
  },
  {
   "cell_type": "markdown",
   "metadata": {},
   "source": [
    "#### Determination of the most optimal value of K"
   ]
  },
  {
   "cell_type": "code",
   "execution_count": 79,
   "metadata": {},
   "outputs": [
    {
     "data": {
      "text/html": [
       "<table>\n",
       "<caption>A tibble: 9 × 7</caption>\n",
       "<thead>\n",
       "\t<tr><th scope=col>neighbors</th><th scope=col>.metric</th><th scope=col>.estimator</th><th scope=col>mean</th><th scope=col>n</th><th scope=col>std_err</th><th scope=col>.config</th></tr>\n",
       "\t<tr><th scope=col>&lt;int&gt;</th><th scope=col>&lt;chr&gt;</th><th scope=col>&lt;chr&gt;</th><th scope=col>&lt;dbl&gt;</th><th scope=col>&lt;int&gt;</th><th scope=col>&lt;dbl&gt;</th><th scope=col>&lt;chr&gt;</th></tr>\n",
       "</thead>\n",
       "<tbody>\n",
       "\t<tr><td> 2</td><td>accuracy</td><td>binary</td><td>0.6828901</td><td>5</td><td>0.05792994</td><td>Model1</td></tr>\n",
       "\t<tr><td> 4</td><td>accuracy</td><td>binary</td><td>0.7242908</td><td>5</td><td>0.03757312</td><td>Model2</td></tr>\n",
       "\t<tr><td> 5</td><td>accuracy</td><td>binary</td><td>0.7617908</td><td>5</td><td>0.01980029</td><td>Model3</td></tr>\n",
       "\t<tr><td> 7</td><td>accuracy</td><td>binary</td><td>0.7577128</td><td>5</td><td>0.02710237</td><td>Model4</td></tr>\n",
       "\t<tr><td> 9</td><td>accuracy</td><td>binary</td><td>0.7535461</td><td>5</td><td>0.02996959</td><td>Model5</td></tr>\n",
       "\t<tr><td>10</td><td>accuracy</td><td>binary</td><td>0.7535461</td><td>5</td><td>0.02996959</td><td>Model6</td></tr>\n",
       "\t<tr><td>12</td><td>accuracy</td><td>binary</td><td>0.7451241</td><td>5</td><td>0.02997155</td><td>Model7</td></tr>\n",
       "\t<tr><td>13</td><td>accuracy</td><td>binary</td><td>0.7494681</td><td>5</td><td>0.03438482</td><td>Model8</td></tr>\n",
       "\t<tr><td>14</td><td>accuracy</td><td>binary</td><td>0.7494681</td><td>5</td><td>0.03438482</td><td>Model9</td></tr>\n",
       "</tbody>\n",
       "</table>\n"
      ],
      "text/latex": [
       "A tibble: 9 × 7\n",
       "\\begin{tabular}{lllllll}\n",
       " neighbors & .metric & .estimator & mean & n & std\\_err & .config\\\\\n",
       " <int> & <chr> & <chr> & <dbl> & <int> & <dbl> & <chr>\\\\\n",
       "\\hline\n",
       "\t  2 & accuracy & binary & 0.6828901 & 5 & 0.05792994 & Model1\\\\\n",
       "\t  4 & accuracy & binary & 0.7242908 & 5 & 0.03757312 & Model2\\\\\n",
       "\t  5 & accuracy & binary & 0.7617908 & 5 & 0.01980029 & Model3\\\\\n",
       "\t  7 & accuracy & binary & 0.7577128 & 5 & 0.02710237 & Model4\\\\\n",
       "\t  9 & accuracy & binary & 0.7535461 & 5 & 0.02996959 & Model5\\\\\n",
       "\t 10 & accuracy & binary & 0.7535461 & 5 & 0.02996959 & Model6\\\\\n",
       "\t 12 & accuracy & binary & 0.7451241 & 5 & 0.02997155 & Model7\\\\\n",
       "\t 13 & accuracy & binary & 0.7494681 & 5 & 0.03438482 & Model8\\\\\n",
       "\t 14 & accuracy & binary & 0.7494681 & 5 & 0.03438482 & Model9\\\\\n",
       "\\end{tabular}\n"
      ],
      "text/markdown": [
       "\n",
       "A tibble: 9 × 7\n",
       "\n",
       "| neighbors &lt;int&gt; | .metric &lt;chr&gt; | .estimator &lt;chr&gt; | mean &lt;dbl&gt; | n &lt;int&gt; | std_err &lt;dbl&gt; | .config &lt;chr&gt; |\n",
       "|---|---|---|---|---|---|---|\n",
       "|  2 | accuracy | binary | 0.6828901 | 5 | 0.05792994 | Model1 |\n",
       "|  4 | accuracy | binary | 0.7242908 | 5 | 0.03757312 | Model2 |\n",
       "|  5 | accuracy | binary | 0.7617908 | 5 | 0.01980029 | Model3 |\n",
       "|  7 | accuracy | binary | 0.7577128 | 5 | 0.02710237 | Model4 |\n",
       "|  9 | accuracy | binary | 0.7535461 | 5 | 0.02996959 | Model5 |\n",
       "| 10 | accuracy | binary | 0.7535461 | 5 | 0.02996959 | Model6 |\n",
       "| 12 | accuracy | binary | 0.7451241 | 5 | 0.02997155 | Model7 |\n",
       "| 13 | accuracy | binary | 0.7494681 | 5 | 0.03438482 | Model8 |\n",
       "| 14 | accuracy | binary | 0.7494681 | 5 | 0.03438482 | Model9 |\n",
       "\n"
      ],
      "text/plain": [
       "  neighbors .metric  .estimator mean      n std_err    .config\n",
       "1  2        accuracy binary     0.6828901 5 0.05792994 Model1 \n",
       "2  4        accuracy binary     0.7242908 5 0.03757312 Model2 \n",
       "3  5        accuracy binary     0.7617908 5 0.01980029 Model3 \n",
       "4  7        accuracy binary     0.7577128 5 0.02710237 Model4 \n",
       "5  9        accuracy binary     0.7535461 5 0.02996959 Model5 \n",
       "6 10        accuracy binary     0.7535461 5 0.02996959 Model6 \n",
       "7 12        accuracy binary     0.7451241 5 0.02997155 Model7 \n",
       "8 13        accuracy binary     0.7494681 5 0.03438482 Model8 \n",
       "9 14        accuracy binary     0.7494681 5 0.03438482 Model9 "
      ]
     },
     "metadata": {},
     "output_type": "display_data"
    }
   ],
   "source": [
    "set.seed(800)\n",
    "\n",
    "#create the model recipe\n",
    "recipe <- recipe(num ~ age + trestbps + chol + thalach + oldpeak + ca,\n",
    "                         data = heart_train) %>% \n",
    "  step_scale(all_predictors()) %>% \n",
    "  step_center(all_predictors())\n",
    "\n",
    "#Create the model specification\n",
    "knn_spec <- nearest_neighbor(weight_func = \"rectangular\", \n",
    "                             neighbors = tune()) %>% \n",
    "  set_engine(\"kknn\") %>% \n",
    "  set_mode(\"classification\")\n",
    "\n",
    "#Cross-validation\n",
    "heart_vfold <- vfold_cv(heart_train,\n",
    "                        v = 5,\n",
    "                        strata = num)\n",
    "\n",
    "#Combine above steps into a single workflow\n",
    "knn_results <- workflow() %>% \n",
    "  add_recipe(recipe) %>% \n",
    "  add_model(knn_spec) %>% \n",
    "  tune_grid(resamples = heart_vfold, grid = 10) %>% \n",
    "  collect_metrics() \n",
    "\n",
    "accuracies <- knn_results %>% \n",
    "  filter(.metric == \"accuracy\")\n",
    "accuracies"
   ]
  },
  {
   "cell_type": "code",
   "execution_count": 80,
   "metadata": {},
   "outputs": [
    {
     "data": {
      "image/png": "[encoded data removed]",
      "text/plain": [
       "plot without title"
      ]
     },
     "metadata": {
      "image/png": {
       "height": 420,
       "width": 420
      }
     },
     "output_type": "display_data"
    }
   ],
   "source": [
    "#Plot the estimated model accuracy vs number of neighbors\n",
    "accuracy_vs_n <- ggplot(accuracies, aes(x = neighbors, y = mean)) +\n",
    "  geom_point() +\n",
    "  geom_line() +\n",
    "  labs(x = \"Neighbors\", y = \"Accuracy Estimate\") + \n",
    "  theme(text = element_text(size = 12))\n",
    "accuracy_vs_n"
   ]
  },
  {
   "cell_type": "code",
   "execution_count": 81,
   "metadata": {},
   "outputs": [
    {
     "data": {
      "text/html": [
       "<table>\n",
       "<caption>A tibble: 1 × 3</caption>\n",
       "<thead>\n",
       "\t<tr><th scope=col>.metric</th><th scope=col>.estimator</th><th scope=col>.estimate</th></tr>\n",
       "\t<tr><th scope=col>&lt;chr&gt;</th><th scope=col>&lt;chr&gt;</th><th scope=col>&lt;dbl&gt;</th></tr>\n",
       "</thead>\n",
       "<tbody>\n",
       "\t<tr><td>accuracy</td><td>binary</td><td>0.8242678</td></tr>\n",
       "</tbody>\n",
       "</table>\n"
      ],
      "text/latex": [
       "A tibble: 1 × 3\n",
       "\\begin{tabular}{lll}\n",
       " .metric & .estimator & .estimate\\\\\n",
       " <chr> & <chr> & <dbl>\\\\\n",
       "\\hline\n",
       "\t accuracy & binary & 0.8242678\\\\\n",
       "\\end{tabular}\n"
      ],
      "text/markdown": [
       "\n",
       "A tibble: 1 × 3\n",
       "\n",
       "| .metric &lt;chr&gt; | .estimator &lt;chr&gt; | .estimate &lt;dbl&gt; |\n",
       "|---|---|---|\n",
       "| accuracy | binary | 0.8242678 |\n",
       "\n"
      ],
      "text/plain": [
       "  .metric  .estimator .estimate\n",
       "1 accuracy binary     0.8242678"
      ]
     },
     "metadata": {},
     "output_type": "display_data"
    }
   ],
   "source": [
    "set.seed(800)\n",
    "\n",
    "knn_spec_rt <- nearest_neighbor(weight_func = \"rectangular\", neighbors = 5) %>% \n",
    "  set_engine(\"kknn\") %>% \n",
    "  set_mode(\"classification\")\n",
    "\n",
    "knn_fit_rt <- workflow() %>% \n",
    "  add_recipe(recipe) %>% \n",
    "  add_model(knn_spec_rt) %>% \n",
    "  fit(data = heart_train)\n",
    "\n",
    "heart_train_predictions <- predict(knn_fit_rt, heart_train) %>% \n",
    "  bind_cols(heart_train)\n",
    "\n",
    "heart_metrics_train <- heart_train_predictions %>% \n",
    "  metrics(truth = num, estimate = .pred_class) %>% \n",
    "  filter(.metric == \"accuracy\")\n",
    "\n",
    "#heart_test_predictions\n",
    "heart_metrics_train"
   ]
  },
  {
   "cell_type": "markdown",
   "metadata": {},
   "source": [
    "#### Predict Model Accuracy on Testing Data"
   ]
  },
  {
   "cell_type": "code",
   "execution_count": 82,
   "metadata": {},
   "outputs": [
    {
     "data": {
      "text/html": [
       "<table>\n",
       "<caption>A tibble: 1 × 3</caption>\n",
       "<thead>\n",
       "\t<tr><th scope=col>.metric</th><th scope=col>.estimator</th><th scope=col>.estimate</th></tr>\n",
       "\t<tr><th scope=col>&lt;chr&gt;</th><th scope=col>&lt;chr&gt;</th><th scope=col>&lt;dbl&gt;</th></tr>\n",
       "</thead>\n",
       "<tbody>\n",
       "\t<tr><td>accuracy</td><td>binary</td><td>0.7931034</td></tr>\n",
       "</tbody>\n",
       "</table>\n"
      ],
      "text/latex": [
       "A tibble: 1 × 3\n",
       "\\begin{tabular}{lll}\n",
       " .metric & .estimator & .estimate\\\\\n",
       " <chr> & <chr> & <dbl>\\\\\n",
       "\\hline\n",
       "\t accuracy & binary & 0.7931034\\\\\n",
       "\\end{tabular}\n"
      ],
      "text/markdown": [
       "\n",
       "A tibble: 1 × 3\n",
       "\n",
       "| .metric &lt;chr&gt; | .estimator &lt;chr&gt; | .estimate &lt;dbl&gt; |\n",
       "|---|---|---|\n",
       "| accuracy | binary | 0.7931034 |\n",
       "\n"
      ],
      "text/plain": [
       "  .metric  .estimator .estimate\n",
       "1 accuracy binary     0.7931034"
      ]
     },
     "metadata": {},
     "output_type": "display_data"
    }
   ],
   "source": [
    "set.seed(800)\n",
    "heart_test_predictions <- predict(knn_fit_rt, heart_test) %>% \n",
    "  bind_cols(heart_test)\n",
    "\n",
    "heart_metrics_test <- heart_test_predictions %>% \n",
    "  metrics(truth = num, estimate = .pred_class) %>% \n",
    "  filter(.metric == \"accuracy\")\n",
    "\n",
    "#heart_test_predictions\n",
    "heart_metrics_test"
   ]
  },
  {
   "cell_type": "code",
   "execution_count": 83,
   "metadata": {},
   "outputs": [
    {
     "data": {
      "text/plain": [
       "          Truth\n",
       "Prediction healthy disease\n",
       "   healthy      24       5\n",
       "   disease       7      22"
      ]
     },
     "metadata": {},
     "output_type": "display_data"
    }
   ],
   "source": [
    "#Confusion matrix \n",
    "\n",
    "confusion <- heart_test_predictions %>% \n",
    "             conf_mat(truth = num , estimate = .pred_class)\n",
    "\n",
    "confusion"
   ]
  },
  {
   "cell_type": "markdown",
   "metadata": {},
   "source": [
    "### Forward Selection\n",
    "#### Compare the selected predictors to what forward selection sugggest are the optimal predictors"
   ]
  },
  {
   "cell_type": "code",
   "execution_count": 84,
   "metadata": {},
   "outputs": [],
   "source": [
    "set.seed(800)\n",
    "\n",
    "#Predictor columns\n",
    "names <- colnames(heart_train %>% select(-c(num, sex)))\n",
    "\n",
    "#Tibble to store accuracies:\n",
    "accuracies_fs <- tibble(size = integer(),\n",
    "                     model_string = character(),\n",
    "                     accuracy = numeric())\n",
    "\n",
    "#create a model spec\n",
    "knn_spec <- nearest_neighbor(weight_func = \"rectangular\",\n",
    "                             neighbors = tune()) %>%\n",
    "  set_engine(\"kknn\") %>% \n",
    "  set_mode(\"classification\")\n",
    "\n",
    "#Create a 5-fold cross-validation object\n",
    "heart_vfold <- vfold_cv(heart_train,\n",
    "                        v = 5,\n",
    "                        strata = num)\n",
    "\n",
    "#Store the total number of predictors \n",
    "n_total <- length(names)\n",
    "\n",
    "#Store selected predictors\n",
    "selected <- c()\n"
   ]
  },
  {
   "cell_type": "code",
   "execution_count": 85,
   "metadata": {},
   "outputs": [],
   "source": [
    "set.seed(800)\n",
    "for (i in 1:n_total) {\n",
    "  accs <- list()\n",
    "  models <- list()\n",
    "  for (j in 1:length(names)){\n",
    "    preds_new <- c(selected, names[[j]])\n",
    "    model_string <- paste(\"num\", \"~\", paste(preds_new, collapse = '+'))\n",
    "    \n",
    "    #Create recipe from model string\n",
    "    heart_recipe <- recipe(as.formula(model_string),\n",
    "                            data = heart_train) %>% \n",
    "      step_scale(all_predictors()) %>% \n",
    "      step_center(all_predictors())\n",
    "    \n",
    "    #Tune KNN classifier with these predictors\n",
    "    #collect accuracy for best k\n",
    "    \n",
    "    acc <- workflow() %>% \n",
    "      add_recipe(heart_recipe) %>% \n",
    "      add_model(knn_spec) %>% \n",
    "      tune_grid(resamples = heart_vfold, grid = 10) %>% \n",
    "      collect_metrics() %>% \n",
    "      filter(.metric == \"accuracy\") %>% \n",
    "      summarise(mx = max(mean))\n",
    "    acc <- acc$mx %>% unlist()\n",
    "    \n",
    "    #add result to dataframe\n",
    "    accs[[j]] <- acc\n",
    "    models[[j]] <- model_string\n",
    "  }\n",
    "  jstar <- which.max(unlist(accs))\n",
    "  accuracies_fs <- accuracies_fs %>% \n",
    "    add_row(size = i, \n",
    "            model_string = models[[jstar]], \n",
    "            accuracy = accs[[jstar]])\n",
    "  selected <- c(selected, names[[jstar]])\n",
    "  names <- names[-jstar]\n",
    "}"
   ]
  },
  {
   "cell_type": "code",
   "execution_count": 86,
   "metadata": {},
   "outputs": [
    {
     "data": {
      "text/html": [
       "<table>\n",
       "<caption>A tibble: 6 × 3</caption>\n",
       "<thead>\n",
       "\t<tr><th scope=col>size</th><th scope=col>model_string</th><th scope=col>accuracy</th></tr>\n",
       "\t<tr><th scope=col>&lt;int&gt;</th><th scope=col>&lt;chr&gt;</th><th scope=col>&lt;dbl&gt;</th></tr>\n",
       "</thead>\n",
       "<tbody>\n",
       "\t<tr><td>1</td><td>num ~ ca                                  </td><td>0.7403369</td></tr>\n",
       "\t<tr><td>2</td><td>num ~ ca+oldpeak                          </td><td>0.7487589</td></tr>\n",
       "\t<tr><td>3</td><td>num ~ ca+oldpeak+chol                     </td><td>0.7737589</td></tr>\n",
       "\t<tr><td>4</td><td>num ~ ca+oldpeak+chol+age                 </td><td>0.7614362</td></tr>\n",
       "\t<tr><td>5</td><td>num ~ ca+oldpeak+chol+age+thalach         </td><td>0.7696809</td></tr>\n",
       "\t<tr><td>6</td><td>num ~ ca+oldpeak+chol+age+thalach+trestbps</td><td>0.7990248</td></tr>\n",
       "</tbody>\n",
       "</table>\n"
      ],
      "text/latex": [
       "A tibble: 6 × 3\n",
       "\\begin{tabular}{lll}\n",
       " size & model\\_string & accuracy\\\\\n",
       " <int> & <chr> & <dbl>\\\\\n",
       "\\hline\n",
       "\t 1 & num \\textasciitilde{} ca                                   & 0.7403369\\\\\n",
       "\t 2 & num \\textasciitilde{} ca+oldpeak                           & 0.7487589\\\\\n",
       "\t 3 & num \\textasciitilde{} ca+oldpeak+chol                      & 0.7737589\\\\\n",
       "\t 4 & num \\textasciitilde{} ca+oldpeak+chol+age                  & 0.7614362\\\\\n",
       "\t 5 & num \\textasciitilde{} ca+oldpeak+chol+age+thalach          & 0.7696809\\\\\n",
       "\t 6 & num \\textasciitilde{} ca+oldpeak+chol+age+thalach+trestbps & 0.7990248\\\\\n",
       "\\end{tabular}\n"
      ],
      "text/markdown": [
       "\n",
       "A tibble: 6 × 3\n",
       "\n",
       "| size &lt;int&gt; | model_string &lt;chr&gt; | accuracy &lt;dbl&gt; |\n",
       "|---|---|---|\n",
       "| 1 | num ~ ca                                   | 0.7403369 |\n",
       "| 2 | num ~ ca+oldpeak                           | 0.7487589 |\n",
       "| 3 | num ~ ca+oldpeak+chol                      | 0.7737589 |\n",
       "| 4 | num ~ ca+oldpeak+chol+age                  | 0.7614362 |\n",
       "| 5 | num ~ ca+oldpeak+chol+age+thalach          | 0.7696809 |\n",
       "| 6 | num ~ ca+oldpeak+chol+age+thalach+trestbps | 0.7990248 |\n",
       "\n"
      ],
      "text/plain": [
       "  size model_string                               accuracy \n",
       "1 1    num ~ ca                                   0.7403369\n",
       "2 2    num ~ ca+oldpeak                           0.7487589\n",
       "3 3    num ~ ca+oldpeak+chol                      0.7737589\n",
       "4 4    num ~ ca+oldpeak+chol+age                  0.7614362\n",
       "5 5    num ~ ca+oldpeak+chol+age+thalach          0.7696809\n",
       "6 6    num ~ ca+oldpeak+chol+age+thalach+trestbps 0.7990248"
      ]
     },
     "metadata": {},
     "output_type": "display_data"
    }
   ],
   "source": [
    "#View the estimated model accuracy for each combination of predictors\n",
    "accuracies_fs"
   ]
  },
  {
   "cell_type": "markdown",
   "metadata": {},
   "source": [
    "#### Comparing Model Accuracy Across Sex"
   ]
  },
  {
   "cell_type": "code",
   "execution_count": 87,
   "metadata": {},
   "outputs": [],
   "source": [
    "set.seed(800)\n",
    "#Create subsets of the wrangled dataset to stratefy by gender\n",
    "female_data <- data %>% \n",
    "    filter(sex == \"female\") %>% \n",
    "    select(-sex)\n",
    "\n",
    "male_data <- data %>% \n",
    "    filter(sex == \"male\") %>% \n",
    "    select(-sex)\n",
    "\n",
    "# head(female_data)\n",
    "# head(male_data)\n",
    "\n",
    "#Creating training data sets for female and male data\n",
    "f_heart_split <- initial_split(female_data, prop = 0.8, strata = num)\n",
    "f_heart_train <- training(f_heart_split)\n",
    "f_heart_test <- testing(f_heart_split)  \n",
    "\n",
    "m_heart_split <- initial_split(male_data, prop = 0.8, strata = num)\n",
    "m_heart_train <- training(m_heart_split)\n",
    "m_heart_test <- testing(m_heart_split)  "
   ]
  },
  {
   "cell_type": "markdown",
   "metadata": {},
   "source": [
    "### Female subset"
   ]
  },
  {
   "cell_type": "code",
   "execution_count": 88,
   "metadata": {},
   "outputs": [
    {
     "data": {
      "text/html": [
       "<table>\n",
       "<caption>A tibble: 9 × 7</caption>\n",
       "<thead>\n",
       "\t<tr><th scope=col>neighbors</th><th scope=col>.metric</th><th scope=col>.estimator</th><th scope=col>mean</th><th scope=col>n</th><th scope=col>std_err</th><th scope=col>.config</th></tr>\n",
       "\t<tr><th scope=col>&lt;int&gt;</th><th scope=col>&lt;chr&gt;</th><th scope=col>&lt;chr&gt;</th><th scope=col>&lt;dbl&gt;</th><th scope=col>&lt;int&gt;</th><th scope=col>&lt;dbl&gt;</th><th scope=col>&lt;chr&gt;</th></tr>\n",
       "</thead>\n",
       "<tbody>\n",
       "\t<tr><td> 1</td><td>accuracy</td><td>binary</td><td>0.6379412</td><td>5</td><td>0.04859117</td><td>Model1</td></tr>\n",
       "\t<tr><td> 3</td><td>accuracy</td><td>binary</td><td>0.6519118</td><td>5</td><td>0.05502876</td><td>Model2</td></tr>\n",
       "\t<tr><td> 4</td><td>accuracy</td><td>binary</td><td>0.6519118</td><td>5</td><td>0.05502876</td><td>Model3</td></tr>\n",
       "\t<tr><td> 5</td><td>accuracy</td><td>binary</td><td>0.7530392</td><td>5</td><td>0.04192377</td><td>Model4</td></tr>\n",
       "\t<tr><td> 7</td><td>accuracy</td><td>binary</td><td>0.7663725</td><td>5</td><td>0.03687226</td><td>Model5</td></tr>\n",
       "\t<tr><td> 9</td><td>accuracy</td><td>binary</td><td>0.7797059</td><td>5</td><td>0.02954040</td><td>Model6</td></tr>\n",
       "\t<tr><td>10</td><td>accuracy</td><td>binary</td><td>0.7797059</td><td>5</td><td>0.02954040</td><td>Model7</td></tr>\n",
       "\t<tr><td>12</td><td>accuracy</td><td>binary</td><td>0.7679412</td><td>5</td><td>0.02744555</td><td>Model8</td></tr>\n",
       "\t<tr><td>15</td><td>accuracy</td><td>binary</td><td>0.7812745</td><td>5</td><td>0.02646351</td><td>Model9</td></tr>\n",
       "</tbody>\n",
       "</table>\n"
      ],
      "text/latex": [
       "A tibble: 9 × 7\n",
       "\\begin{tabular}{lllllll}\n",
       " neighbors & .metric & .estimator & mean & n & std\\_err & .config\\\\\n",
       " <int> & <chr> & <chr> & <dbl> & <int> & <dbl> & <chr>\\\\\n",
       "\\hline\n",
       "\t  1 & accuracy & binary & 0.6379412 & 5 & 0.04859117 & Model1\\\\\n",
       "\t  3 & accuracy & binary & 0.6519118 & 5 & 0.05502876 & Model2\\\\\n",
       "\t  4 & accuracy & binary & 0.6519118 & 5 & 0.05502876 & Model3\\\\\n",
       "\t  5 & accuracy & binary & 0.7530392 & 5 & 0.04192377 & Model4\\\\\n",
       "\t  7 & accuracy & binary & 0.7663725 & 5 & 0.03687226 & Model5\\\\\n",
       "\t  9 & accuracy & binary & 0.7797059 & 5 & 0.02954040 & Model6\\\\\n",
       "\t 10 & accuracy & binary & 0.7797059 & 5 & 0.02954040 & Model7\\\\\n",
       "\t 12 & accuracy & binary & 0.7679412 & 5 & 0.02744555 & Model8\\\\\n",
       "\t 15 & accuracy & binary & 0.7812745 & 5 & 0.02646351 & Model9\\\\\n",
       "\\end{tabular}\n"
      ],
      "text/markdown": [
       "\n",
       "A tibble: 9 × 7\n",
       "\n",
       "| neighbors &lt;int&gt; | .metric &lt;chr&gt; | .estimator &lt;chr&gt; | mean &lt;dbl&gt; | n &lt;int&gt; | std_err &lt;dbl&gt; | .config &lt;chr&gt; |\n",
       "|---|---|---|---|---|---|---|\n",
       "|  1 | accuracy | binary | 0.6379412 | 5 | 0.04859117 | Model1 |\n",
       "|  3 | accuracy | binary | 0.6519118 | 5 | 0.05502876 | Model2 |\n",
       "|  4 | accuracy | binary | 0.6519118 | 5 | 0.05502876 | Model3 |\n",
       "|  5 | accuracy | binary | 0.7530392 | 5 | 0.04192377 | Model4 |\n",
       "|  7 | accuracy | binary | 0.7663725 | 5 | 0.03687226 | Model5 |\n",
       "|  9 | accuracy | binary | 0.7797059 | 5 | 0.02954040 | Model6 |\n",
       "| 10 | accuracy | binary | 0.7797059 | 5 | 0.02954040 | Model7 |\n",
       "| 12 | accuracy | binary | 0.7679412 | 5 | 0.02744555 | Model8 |\n",
       "| 15 | accuracy | binary | 0.7812745 | 5 | 0.02646351 | Model9 |\n",
       "\n"
      ],
      "text/plain": [
       "  neighbors .metric  .estimator mean      n std_err    .config\n",
       "1  1        accuracy binary     0.6379412 5 0.04859117 Model1 \n",
       "2  3        accuracy binary     0.6519118 5 0.05502876 Model2 \n",
       "3  4        accuracy binary     0.6519118 5 0.05502876 Model3 \n",
       "4  5        accuracy binary     0.7530392 5 0.04192377 Model4 \n",
       "5  7        accuracy binary     0.7663725 5 0.03687226 Model5 \n",
       "6  9        accuracy binary     0.7797059 5 0.02954040 Model6 \n",
       "7 10        accuracy binary     0.7797059 5 0.02954040 Model7 \n",
       "8 12        accuracy binary     0.7679412 5 0.02744555 Model8 \n",
       "9 15        accuracy binary     0.7812745 5 0.02646351 Model9 "
      ]
     },
     "metadata": {},
     "output_type": "display_data"
    }
   ],
   "source": [
    "set.seed(800)\n",
    "#create the model recipe\n",
    "recipe <- recipe(num ~ age + trestbps + chol + thalach + oldpeak + ca,\n",
    "                         data = f_heart_train) %>% \n",
    "  step_scale(all_predictors()) %>% \n",
    "  step_center(all_predictors())\n",
    "\n",
    "#Create the model specification\n",
    "knn_spec <- nearest_neighbor(weight_func = \"rectangular\", \n",
    "                             neighbors = tune()) %>% \n",
    "  set_engine(\"kknn\") %>% \n",
    "  set_mode(\"classification\")\n",
    "\n",
    "#Cross-validation\n",
    "heart_vfold <- vfold_cv(f_heart_train,\n",
    "                        v = 5,\n",
    "                        strata = num)\n",
    "\n",
    "#Combine above steps into a single workflow\n",
    "knn_results <- workflow() %>% \n",
    "  add_recipe(recipe) %>% \n",
    "  add_model(knn_spec) %>% \n",
    "  tune_grid(resamples = heart_vfold, grid = 10) %>% \n",
    "  collect_metrics() \n",
    "\n",
    "accuracies_female <- knn_results %>% \n",
    "  filter(.metric == \"accuracy\")\n",
    "accuracies_female"
   ]
  },
  {
   "cell_type": "code",
   "execution_count": 89,
   "metadata": {},
   "outputs": [
    {
     "data": {
      "image/png": "[encoded data removed]",
      "text/plain": [
       "plot without title"
      ]
     },
     "metadata": {
      "image/png": {
       "height": 420,
       "width": 420
      }
     },
     "output_type": "display_data"
    }
   ],
   "source": [
    "accuracy_vs_n <- ggplot(accuracies_female, aes(x = neighbors, y = mean)) +\n",
    "  geom_point() +\n",
    "  geom_line() +\n",
    "  labs(x = \"Neighbors\", y = \"Accuracy Estimate\") + \n",
    "  theme(text = element_text(size = 12))\n",
    "accuracy_vs_n"
   ]
  },
  {
   "cell_type": "code",
   "execution_count": 94,
   "metadata": {},
   "outputs": [
    {
     "data": {
      "text/html": [
       "<table>\n",
       "<caption>A tibble: 1 × 3</caption>\n",
       "<thead>\n",
       "\t<tr><th scope=col>.metric</th><th scope=col>.estimator</th><th scope=col>.estimate</th></tr>\n",
       "\t<tr><th scope=col>&lt;chr&gt;</th><th scope=col>&lt;chr&gt;</th><th scope=col>&lt;dbl&gt;</th></tr>\n",
       "</thead>\n",
       "<tbody>\n",
       "\t<tr><td>accuracy</td><td>binary</td><td>0.7820513</td></tr>\n",
       "</tbody>\n",
       "</table>\n"
      ],
      "text/latex": [
       "A tibble: 1 × 3\n",
       "\\begin{tabular}{lll}\n",
       " .metric & .estimator & .estimate\\\\\n",
       " <chr> & <chr> & <dbl>\\\\\n",
       "\\hline\n",
       "\t accuracy & binary & 0.7820513\\\\\n",
       "\\end{tabular}\n"
      ],
      "text/markdown": [
       "\n",
       "A tibble: 1 × 3\n",
       "\n",
       "| .metric &lt;chr&gt; | .estimator &lt;chr&gt; | .estimate &lt;dbl&gt; |\n",
       "|---|---|---|\n",
       "| accuracy | binary | 0.7820513 |\n",
       "\n"
      ],
      "text/plain": [
       "  .metric  .estimator .estimate\n",
       "1 accuracy binary     0.7820513"
      ]
     },
     "metadata": {},
     "output_type": "display_data"
    }
   ],
   "source": [
    "set.seed(800)\n",
    "\n",
    "knn_spec_rt_female <- nearest_neighbor(weight_func = \"rectangular\", neighbors = 9) %>% \n",
    "  set_engine(\"kknn\") %>% \n",
    "  set_mode(\"classification\")\n",
    "\n",
    "knn_fit_rt_female <- workflow() %>% \n",
    "  add_recipe(recipe) %>% \n",
    "  add_model(knn_spec_rt_female) %>% \n",
    "  fit(data = f_heart_train)\n",
    "\n",
    "heart_train_predictions_f <- predict(knn_fit_rt_female, f_heart_train) %>% \n",
    "  bind_cols(f_heart_train)\n",
    "\n",
    "heart_metrics_train_f <- heart_train_predictions_f %>% \n",
    "  metrics(truth = num, estimate = .pred_class) %>% \n",
    "  filter(.metric == \"accuracy\")\n",
    "\n",
    "#heart_test_predictions\n",
    "heart_metrics_train_f"
   ]
  },
  {
   "cell_type": "markdown",
   "metadata": {},
   "source": [
    "### Male Subset"
   ]
  },
  {
   "cell_type": "code",
   "execution_count": 91,
   "metadata": {},
   "outputs": [
    {
     "data": {
      "text/html": [
       "<table>\n",
       "<caption>A tibble: 8 × 7</caption>\n",
       "<thead>\n",
       "\t<tr><th scope=col>neighbors</th><th scope=col>.metric</th><th scope=col>.estimator</th><th scope=col>mean</th><th scope=col>n</th><th scope=col>std_err</th><th scope=col>.config</th></tr>\n",
       "\t<tr><th scope=col>&lt;int&gt;</th><th scope=col>&lt;chr&gt;</th><th scope=col>&lt;chr&gt;</th><th scope=col>&lt;dbl&gt;</th><th scope=col>&lt;int&gt;</th><th scope=col>&lt;dbl&gt;</th><th scope=col>&lt;chr&gt;</th></tr>\n",
       "</thead>\n",
       "<tbody>\n",
       "\t<tr><td> 2</td><td>accuracy</td><td>binary</td><td>0.7401515</td><td>5</td><td>0.02961700</td><td>Model1</td></tr>\n",
       "\t<tr><td> 3</td><td>accuracy</td><td>binary</td><td>0.7590909</td><td>5</td><td>0.02715773</td><td>Model2</td></tr>\n",
       "\t<tr><td> 5</td><td>accuracy</td><td>binary</td><td>0.7649621</td><td>5</td><td>0.02622337</td><td>Model3</td></tr>\n",
       "\t<tr><td> 8</td><td>accuracy</td><td>binary</td><td>0.7837121</td><td>5</td><td>0.01467528</td><td>Model4</td></tr>\n",
       "\t<tr><td> 9</td><td>accuracy</td><td>binary</td><td>0.7835227</td><td>5</td><td>0.01817738</td><td>Model5</td></tr>\n",
       "\t<tr><td>12</td><td>accuracy</td><td>binary</td><td>0.7649621</td><td>5</td><td>0.02404893</td><td>Model6</td></tr>\n",
       "\t<tr><td>13</td><td>accuracy</td><td>binary</td><td>0.7401515</td><td>5</td><td>0.02791971</td><td>Model7</td></tr>\n",
       "\t<tr><td>15</td><td>accuracy</td><td>binary</td><td>0.7526515</td><td>5</td><td>0.02463104</td><td>Model8</td></tr>\n",
       "</tbody>\n",
       "</table>\n"
      ],
      "text/latex": [
       "A tibble: 8 × 7\n",
       "\\begin{tabular}{lllllll}\n",
       " neighbors & .metric & .estimator & mean & n & std\\_err & .config\\\\\n",
       " <int> & <chr> & <chr> & <dbl> & <int> & <dbl> & <chr>\\\\\n",
       "\\hline\n",
       "\t  2 & accuracy & binary & 0.7401515 & 5 & 0.02961700 & Model1\\\\\n",
       "\t  3 & accuracy & binary & 0.7590909 & 5 & 0.02715773 & Model2\\\\\n",
       "\t  5 & accuracy & binary & 0.7649621 & 5 & 0.02622337 & Model3\\\\\n",
       "\t  8 & accuracy & binary & 0.7837121 & 5 & 0.01467528 & Model4\\\\\n",
       "\t  9 & accuracy & binary & 0.7835227 & 5 & 0.01817738 & Model5\\\\\n",
       "\t 12 & accuracy & binary & 0.7649621 & 5 & 0.02404893 & Model6\\\\\n",
       "\t 13 & accuracy & binary & 0.7401515 & 5 & 0.02791971 & Model7\\\\\n",
       "\t 15 & accuracy & binary & 0.7526515 & 5 & 0.02463104 & Model8\\\\\n",
       "\\end{tabular}\n"
      ],
      "text/markdown": [
       "\n",
       "A tibble: 8 × 7\n",
       "\n",
       "| neighbors &lt;int&gt; | .metric &lt;chr&gt; | .estimator &lt;chr&gt; | mean &lt;dbl&gt; | n &lt;int&gt; | std_err &lt;dbl&gt; | .config &lt;chr&gt; |\n",
       "|---|---|---|---|---|---|---|\n",
       "|  2 | accuracy | binary | 0.7401515 | 5 | 0.02961700 | Model1 |\n",
       "|  3 | accuracy | binary | 0.7590909 | 5 | 0.02715773 | Model2 |\n",
       "|  5 | accuracy | binary | 0.7649621 | 5 | 0.02622337 | Model3 |\n",
       "|  8 | accuracy | binary | 0.7837121 | 5 | 0.01467528 | Model4 |\n",
       "|  9 | accuracy | binary | 0.7835227 | 5 | 0.01817738 | Model5 |\n",
       "| 12 | accuracy | binary | 0.7649621 | 5 | 0.02404893 | Model6 |\n",
       "| 13 | accuracy | binary | 0.7401515 | 5 | 0.02791971 | Model7 |\n",
       "| 15 | accuracy | binary | 0.7526515 | 5 | 0.02463104 | Model8 |\n",
       "\n"
      ],
      "text/plain": [
       "  neighbors .metric  .estimator mean      n std_err    .config\n",
       "1  2        accuracy binary     0.7401515 5 0.02961700 Model1 \n",
       "2  3        accuracy binary     0.7590909 5 0.02715773 Model2 \n",
       "3  5        accuracy binary     0.7649621 5 0.02622337 Model3 \n",
       "4  8        accuracy binary     0.7837121 5 0.01467528 Model4 \n",
       "5  9        accuracy binary     0.7835227 5 0.01817738 Model5 \n",
       "6 12        accuracy binary     0.7649621 5 0.02404893 Model6 \n",
       "7 13        accuracy binary     0.7401515 5 0.02791971 Model7 \n",
       "8 15        accuracy binary     0.7526515 5 0.02463104 Model8 "
      ]
     },
     "metadata": {},
     "output_type": "display_data"
    },
    {
     "data": {
      "image/png": "[encoded data removed]",
      "text/plain": [
       "plot without title"
      ]
     },
     "metadata": {
      "image/png": {
       "height": 420,
       "width": 420
      }
     },
     "output_type": "display_data"
    }
   ],
   "source": [
    "set.seed(800)\n",
    "#create the model recipe\n",
    "recipe <- recipe(num ~ age + trestbps + chol + thalach + oldpeak + ca,\n",
    "                         data = m_heart_train) %>% \n",
    "  step_scale(all_predictors()) %>% \n",
    "  step_center(all_predictors())\n",
    "\n",
    "#Create the model specification\n",
    "knn_spec <- nearest_neighbor(weight_func = \"rectangular\", \n",
    "                             neighbors = tune()) %>% \n",
    "  set_engine(\"kknn\") %>% \n",
    "  set_mode(\"classification\")\n",
    "\n",
    "#Cross-validation\n",
    "heart_vfold <- vfold_cv(m_heart_train,\n",
    "                        v = 5,\n",
    "                        strata = num)\n",
    "\n",
    "#Combine above steps into a single workflow\n",
    "knn_results <- workflow() %>% \n",
    "  add_recipe(recipe) %>% \n",
    "  add_model(knn_spec) %>% \n",
    "  tune_grid(resamples = heart_vfold, grid = 10) %>% \n",
    "  collect_metrics() \n",
    "\n",
    "accuracies_male <- knn_results %>% \n",
    "  filter(.metric == \"accuracy\")\n",
    "accuracies_male\n",
    "\n",
    "accuracy_vs_n <- ggplot(accuracies_male, aes(x = neighbors, y = mean)) +\n",
    "  geom_point() +\n",
    "  geom_line() +\n",
    "  labs(x = \"Neighbors\", y = \"Accuracy Estimate\") + \n",
    "  theme(text = element_text(size = 12))\n",
    "accuracy_vs_n"
   ]
  },
  {
   "cell_type": "code",
   "execution_count": 92,
   "metadata": {},
   "outputs": [
    {
     "data": {
      "text/html": [
       "<table>\n",
       "<caption>A tibble: 1 × 3</caption>\n",
       "<thead>\n",
       "\t<tr><th scope=col>.metric</th><th scope=col>.estimator</th><th scope=col>.estimate</th></tr>\n",
       "\t<tr><th scope=col>&lt;chr&gt;</th><th scope=col>&lt;chr&gt;</th><th scope=col>&lt;dbl&gt;</th></tr>\n",
       "</thead>\n",
       "<tbody>\n",
       "\t<tr><td>accuracy</td><td>binary</td><td>0.8333333</td></tr>\n",
       "</tbody>\n",
       "</table>\n"
      ],
      "text/latex": [
       "A tibble: 1 × 3\n",
       "\\begin{tabular}{lll}\n",
       " .metric & .estimator & .estimate\\\\\n",
       " <chr> & <chr> & <dbl>\\\\\n",
       "\\hline\n",
       "\t accuracy & binary & 0.8333333\\\\\n",
       "\\end{tabular}\n"
      ],
      "text/markdown": [
       "\n",
       "A tibble: 1 × 3\n",
       "\n",
       "| .metric &lt;chr&gt; | .estimator &lt;chr&gt; | .estimate &lt;dbl&gt; |\n",
       "|---|---|---|\n",
       "| accuracy | binary | 0.8333333 |\n",
       "\n"
      ],
      "text/plain": [
       "  .metric  .estimator .estimate\n",
       "1 accuracy binary     0.8333333"
      ]
     },
     "metadata": {},
     "output_type": "display_data"
    }
   ],
   "source": [
    "set.seed(800)\n",
    "\n",
    "knn_spec_rt_male <- nearest_neighbor(weight_func = \"rectangular\", neighbors = 8) %>% \n",
    "  set_engine(\"kknn\") %>% \n",
    "  set_mode(\"classification\")\n",
    "\n",
    "knn_fit_rt_male <- workflow() %>% \n",
    "  add_recipe(recipe) %>% \n",
    "  add_model(knn_spec_rt_male) %>% \n",
    "  fit(data = m_heart_train)\n",
    "\n",
    "heart_train_predictions_m <- predict(knn_fit_rt_male, m_heart_train) %>% \n",
    "  bind_cols(m_heart_train)\n",
    "\n",
    "heart_metrics_train_m <- heart_train_predictions_m %>% \n",
    "  metrics(truth = num, estimate = .pred_class) %>% \n",
    "  filter(.metric == \"accuracy\")\n",
    "\n",
    "#heart_test_predictions\n",
    "heart_metrics_train_m"
   ]
  },
  {
   "cell_type": "markdown",
   "metadata": {},
   "source": [
    "#### Predict Heart Disease in female and male testing data"
   ]
  },
  {
   "cell_type": "markdown",
   "metadata": {},
   "source": [
    "## Methods\n",
    "All of the variables will be considered to determine which of the predictors are best suited for predicting heart disease and which ones are irrelevant and negatively affect accuracy. We will be using the forward selection method of choosing the best predictors due to better processing time over the best-subset selection method. \n",
    "\n",
    "We will be visualizing the data as follows:\n",
    "\n",
    "1. To find the ideal k value we will use a line+point graph that plots neighbors vs estimated accuracies to identify what k value yields the most accurate results.\n",
    "2. To find the best number of predictors, we will plot an estimated accuracy vs. number of predictors line and point graph\n",
    "3. To visualize model accuracy, we will plot a bar graph that displays the number of false-positive, true positive, false negative, and true negative results.\n",
    "\n"
   ]
  },
  {
   "cell_type": "markdown",
   "metadata": {},
   "source": [
    "## Expected Outome and Significance\n",
    "\n",
    "### Expectations\n",
    "We expect to find that not all of the original predictors are required to create the most accurate classifier.  As shown through the correlation matrix and accompanying plot, some attributes do not appear to have a strong correlation with heart disease. \n",
    "\n",
    "### Implications\n",
    "The findings could help practitioners diagnose heart disease more accurately, by only considering relevant predictor metrics. This classifier could also be used to perform a preliminary screen on who is likely to have heart disease and require a more extensive follow-up for an official diagnosis. By identifying what metrics are relevant to the prognosis of heart disease, these could be tracked to monitor patient progression.\n",
    "\n",
    "### Future Questions \n",
    "Since only the Cleveland dataset was used to train the classifier, there could be a geographical bias. A future direction could be to analyze the accuracy of the classifier for other areas and datasets.  "
   ]
  },
  {
   "cell_type": "markdown",
   "metadata": {},
   "source": [
    "## References\n",
    "\n",
    "Heart Disease Data Set. (1988, July 1). UCI Machine Learning Repository. Retrieved   March 5, 2022, from https://archive.ics.uci.edu/ml/datasets/Heart+Disease\n",
    "\n",
    "NHS. (n.d.). NHS choices. Retrieved March 5, 2022, from https://www.nhs.uk/conditions/coronary-heart-disease/"
   ]
  },
  {
   "cell_type": "markdown",
   "metadata": {},
   "source": [
    "## Appendix\n",
    "\n",
    "| Attribute      | Description |\n",
    "| ----------- | ----------- |\n",
    "| age         | age       |\n",
    "| sex         | sex         |\n",
    "| cp          | chest pain |\n",
    "| trestbps    | resting blood pressure |\n",
    "| chol        | cholesterol |\n",
    "| fbs         | fasting blood sugar |\n",
    "| restecg     | resting electrocardiographic results |\n",
    "| thalach     | maximum heart rate record |\n",
    "| exang       | exercise induced angia |\n",
    "| oldpeak     | ST depression indiced by exercise relative to rest |\n",
    "| slope       | slope of peak exercise ST segment |\n",
    "| ca          | number of major vessels coloured by fluoroscopy |\n",
    "| thal        | thalassemia |\n",
    "| num         | predicted attribute |\n",
    "\n",
    "\n",
    "\n"
   ]
  }
 ],
 "metadata": {
  "kernelspec": {
   "display_name": "R",
   "language": "R",
   "name": "ir"
  },
  "language_info": {
   "codemirror_mode": "r",
   "file_extension": ".r",
   "mimetype": "text/x-r-source",
   "name": "R",
   "pygments_lexer": "r",
   "version": "4.0.0"
  }
 },
 "nbformat": 4,
 "nbformat_minor": 4
}
