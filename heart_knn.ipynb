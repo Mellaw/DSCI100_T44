{
 "cells": [
  {
   "cell_type": "code",
   "execution_count": 1,
   "metadata": {},
   "outputs": [
    {
     "name": "stderr",
     "output_type": "stream",
     "text": [
      "── \u001b[1mAttaching packages\u001b[22m ─────────────────────────────────────── tidyverse 1.3.0 ──\n",
      "\n",
      "\u001b[32m✔\u001b[39m \u001b[34mggplot2\u001b[39m 3.3.2     \u001b[32m✔\u001b[39m \u001b[34mpurrr  \u001b[39m 0.3.4\n",
      "\u001b[32m✔\u001b[39m \u001b[34mtibble \u001b[39m 3.0.3     \u001b[32m✔\u001b[39m \u001b[34mdplyr  \u001b[39m 1.0.2\n",
      "\u001b[32m✔\u001b[39m \u001b[34mtidyr  \u001b[39m 1.1.2     \u001b[32m✔\u001b[39m \u001b[34mstringr\u001b[39m 1.4.0\n",
      "\u001b[32m✔\u001b[39m \u001b[34mreadr  \u001b[39m 1.3.1     \u001b[32m✔\u001b[39m \u001b[34mforcats\u001b[39m 0.5.0\n",
      "\n",
      "Warning message:\n",
      "“package ‘ggplot2’ was built under R version 4.0.1”\n",
      "Warning message:\n",
      "“package ‘tibble’ was built under R version 4.0.2”\n",
      "Warning message:\n",
      "“package ‘tidyr’ was built under R version 4.0.2”\n",
      "Warning message:\n",
      "“package ‘dplyr’ was built under R version 4.0.2”\n",
      "── \u001b[1mConflicts\u001b[22m ────────────────────────────────────────── tidyverse_conflicts() ──\n",
      "\u001b[31m✖\u001b[39m \u001b[34mdplyr\u001b[39m::\u001b[32mfilter()\u001b[39m masks \u001b[34mstats\u001b[39m::filter()\n",
      "\u001b[31m✖\u001b[39m \u001b[34mdplyr\u001b[39m::\u001b[32mlag()\u001b[39m    masks \u001b[34mstats\u001b[39m::lag()\n",
      "\n",
      "Warning message:\n",
      "“package ‘tidymodels’ was built under R version 4.0.2”\n",
      "── \u001b[1mAttaching packages\u001b[22m ────────────────────────────────────── tidymodels 0.1.1 ──\n",
      "\n",
      "\u001b[32m✔\u001b[39m \u001b[34mbroom    \u001b[39m 0.7.0      \u001b[32m✔\u001b[39m \u001b[34mrecipes  \u001b[39m 0.1.13\n",
      "\u001b[32m✔\u001b[39m \u001b[34mdials    \u001b[39m 0.0.9      \u001b[32m✔\u001b[39m \u001b[34mrsample  \u001b[39m 0.0.7 \n",
      "\u001b[32m✔\u001b[39m \u001b[34minfer    \u001b[39m 0.5.4      \u001b[32m✔\u001b[39m \u001b[34mtune     \u001b[39m 0.1.1 \n",
      "\u001b[32m✔\u001b[39m \u001b[34mmodeldata\u001b[39m 0.0.2      \u001b[32m✔\u001b[39m \u001b[34mworkflows\u001b[39m 0.2.0 \n",
      "\u001b[32m✔\u001b[39m \u001b[34mparsnip  \u001b[39m 0.1.3      \u001b[32m✔\u001b[39m \u001b[34myardstick\u001b[39m 0.0.7 \n",
      "\n",
      "Warning message:\n",
      "“package ‘broom’ was built under R version 4.0.2”\n",
      "Warning message:\n",
      "“package ‘dials’ was built under R version 4.0.2”\n",
      "Warning message:\n",
      "“package ‘infer’ was built under R version 4.0.3”\n",
      "Warning message:\n",
      "“package ‘modeldata’ was built under R version 4.0.1”\n",
      "Warning message:\n",
      "“package ‘parsnip’ was built under R version 4.0.2”\n",
      "Warning message:\n",
      "“package ‘recipes’ was built under R version 4.0.1”\n",
      "Warning message:\n",
      "“package ‘tune’ was built under R version 4.0.2”\n",
      "Warning message:\n",
      "“package ‘workflows’ was built under R version 4.0.2”\n",
      "Warning message:\n",
      "“package ‘yardstick’ was built under R version 4.0.2”\n",
      "── \u001b[1mConflicts\u001b[22m ───────────────────────────────────────── tidymodels_conflicts() ──\n",
      "\u001b[31m✖\u001b[39m \u001b[34mscales\u001b[39m::\u001b[32mdiscard()\u001b[39m masks \u001b[34mpurrr\u001b[39m::discard()\n",
      "\u001b[31m✖\u001b[39m \u001b[34mdplyr\u001b[39m::\u001b[32mfilter()\u001b[39m   masks \u001b[34mstats\u001b[39m::filter()\n",
      "\u001b[31m✖\u001b[39m \u001b[34mrecipes\u001b[39m::\u001b[32mfixed()\u001b[39m  masks \u001b[34mstringr\u001b[39m::fixed()\n",
      "\u001b[31m✖\u001b[39m \u001b[34mdplyr\u001b[39m::\u001b[32mlag()\u001b[39m      masks \u001b[34mstats\u001b[39m::lag()\n",
      "\u001b[31m✖\u001b[39m \u001b[34myardstick\u001b[39m::\u001b[32mspec()\u001b[39m masks \u001b[34mreadr\u001b[39m::spec()\n",
      "\u001b[31m✖\u001b[39m \u001b[34mrecipes\u001b[39m::\u001b[32mstep()\u001b[39m   masks \u001b[34mstats\u001b[39m::step()\n",
      "\n"
     ]
    }
   ],
   "source": [
    "#Load libraries\n",
    "library(tidyverse)\n",
    "library(repr)\n",
    "library(tidymodels)"
   ]
  },
  {
   "cell_type": "markdown",
   "metadata": {},
   "source": [
    "Load & format data"
   ]
  },
  {
   "cell_type": "code",
   "execution_count": 21,
   "metadata": {},
   "outputs": [
    {
     "name": "stderr",
     "output_type": "stream",
     "text": [
      "Parsed with column specification:\n",
      "cols(\n",
      "  X1 = \u001b[32mcol_double()\u001b[39m,\n",
      "  X2 = \u001b[32mcol_double()\u001b[39m,\n",
      "  X3 = \u001b[32mcol_double()\u001b[39m,\n",
      "  X4 = \u001b[32mcol_double()\u001b[39m,\n",
      "  X5 = \u001b[32mcol_double()\u001b[39m,\n",
      "  X6 = \u001b[32mcol_double()\u001b[39m,\n",
      "  X7 = \u001b[32mcol_double()\u001b[39m,\n",
      "  X8 = \u001b[32mcol_double()\u001b[39m,\n",
      "  X9 = \u001b[32mcol_double()\u001b[39m,\n",
      "  X10 = \u001b[32mcol_double()\u001b[39m,\n",
      "  X11 = \u001b[32mcol_double()\u001b[39m,\n",
      "  X12 = \u001b[31mcol_character()\u001b[39m,\n",
      "  X13 = \u001b[31mcol_character()\u001b[39m,\n",
      "  X14 = \u001b[32mcol_double()\u001b[39m\n",
      ")\n",
      "\n",
      "Warning message:\n",
      "“Problem with `mutate()` input `ca`.\n",
      "\u001b[34mℹ\u001b[39m NAs introduced by coercion\n",
      "\u001b[34mℹ\u001b[39m Input `ca` is `as.numeric(ca)`.”\n",
      "Warning message in mask$eval_all_mutate(dots[[i]]):\n",
      "“NAs introduced by coercion”\n",
      "Warning message:\n",
      "“Problem with `mutate()` input `thal`.\n",
      "\u001b[34mℹ\u001b[39m NAs introduced by coercion\n",
      "\u001b[34mℹ\u001b[39m Input `thal` is `as.numeric(thal)`.”\n",
      "Warning message in mask$eval_all_mutate(dots[[i]]):\n",
      "“NAs introduced by coercion”\n"
     ]
    }
   ],
   "source": [
    "set.seed(800)\n",
    "\n",
    "data <- read_delim(\"processed.cleveland.data\", delim =',', col_names = FALSE)\n",
    "attributes <-  c(\"age\", 'sex','cp', 'trestbps', 'chol', 'fbs', 'restecg',\n",
    "                 'thalach', 'exang', 'oldpeak', 'slope', 'ca', 'thal', 'num')\n",
    "colnames(data) <- attributes\n",
    "data <- data %>%\n",
    "  mutate(oldpeak = as.numeric(oldpeak),\n",
    "         ca = as.numeric(ca),\n",
    "         thal = as.numeric(thal)) %>% \n",
    "  filter(!is.na(ca),\n",
    "         !is.na(thal))\n",
    "\n",
    "data <- data %>%\n",
    "  mutate(num = ifelse(num > 0,\"disease\",\"healthy\")) %>% \n",
    "  mutate(num = as_factor(num)) "
   ]
  },
  {
   "cell_type": "code",
   "execution_count": 22,
   "metadata": {},
   "outputs": [],
   "source": [
    "set.seed(800)\n",
    "\n",
    "heart_split <- initial_split(data, prop = 0.8, strata = num)\n",
    "heart_train <- training(heart_split)\n",
    "heart_test <- testing(heart_split)    \n"
   ]
  },
  {
   "cell_type": "code",
   "execution_count": 23,
   "metadata": {},
   "outputs": [],
   "source": [
    "set.seed(800)\n",
    "\n",
    "#Predictor columns\n",
    "names <- colnames(heart_train %>% select(-num))\n",
    "\n",
    "#Tibble to store accuracies:\n",
    "accuracies <- tibble(size = integer(),\n",
    "                     model_string = character(),\n",
    "                     accuracy = numeric())\n",
    "\n",
    "#create a model spec\n",
    "knn_spec <- nearest_neighbor(weight_func = \"rectangular\",\n",
    "                             neighbors = tune()) %>%\n",
    "  set_engine(\"kknn\") %>% \n",
    "  set_mode(\"classification\")\n",
    "\n",
    "#Create a 5-fold cross-validation object\n",
    "heart_vfold <- vfold_cv(heart_train,\n",
    "                        v = 5,\n",
    "                        strata = num)\n",
    "\n",
    "#Store the total number of predictors \n",
    "n_total <- length(names)\n",
    "\n",
    "#Store selected predictors\n",
    "selected <- c()\n"
   ]
  },
  {
   "cell_type": "code",
   "execution_count": 24,
   "metadata": {},
   "outputs": [],
   "source": [
    "set.seed(800)\n",
    "for (i in 1:n_total) {\n",
    "  accs <- list()\n",
    "  models <- list()\n",
    "  for (j in 1:length(names)){\n",
    "    preds_new <- c(selected, names[[j]])\n",
    "    model_string <- paste(\"num\", \"~\", paste(preds_new, collapse = '+'))\n",
    "    \n",
    "    #Create recipe from model string\n",
    "    heart_recipe <- recipe(as.formula(model_string),\n",
    "                            data = heart_train) %>% \n",
    "      step_scale(all_predictors()) %>% \n",
    "      step_center(all_predictors())\n",
    "    \n",
    "    #Tune KNN classifier with these predictors\n",
    "    #collect accuracy for best k\n",
    "    \n",
    "    acc <- workflow() %>% \n",
    "      add_recipe(heart_recipe) %>% \n",
    "      add_model(knn_spec) %>% \n",
    "      tune_grid(resamples = heart_vfold, grid = 10) %>% \n",
    "      collect_metrics() %>% \n",
    "      filter(.metric == \"accuracy\") %>% \n",
    "      summarise(mx = max(mean))\n",
    "    acc <- acc$mx %>% unlist()\n",
    "    \n",
    "    #add result to dataframe\n",
    "    accs[[j]] <- acc\n",
    "    models[[j]] <- model_string\n",
    "  }\n",
    "  jstar <- which.max(unlist(accs))\n",
    "  accuracies <- accuracies %>% \n",
    "    add_row(size = i, \n",
    "            model_string = models[[jstar]], \n",
    "            accuracy = accs[[jstar]])\n",
    "  selected <- c(selected, names[[jstar]])\n",
    "  names <- names[-jstar]\n",
    "}"
   ]
  },
  {
   "cell_type": "code",
   "execution_count": 29,
   "metadata": {},
   "outputs": [
    {
     "data": {
      "text/html": [
       "<table>\n",
       "<caption>A tibble: 13 × 3</caption>\n",
       "<thead>\n",
       "\t<tr><th scope=col>size</th><th scope=col>model_string</th><th scope=col>accuracy</th></tr>\n",
       "\t<tr><th scope=col>&lt;int&gt;</th><th scope=col>&lt;chr&gt;</th><th scope=col>&lt;dbl&gt;</th></tr>\n",
       "</thead>\n",
       "<tbody>\n",
       "\t<tr><td> 1</td><td>num ~ thal                                                                    </td><td>0.7489362</td></tr>\n",
       "\t<tr><td> 2</td><td>num ~ thal+thalach                                                            </td><td>0.7571809</td></tr>\n",
       "\t<tr><td> 3</td><td>num ~ thal+thalach+ca                                                         </td><td>0.7864362</td></tr>\n",
       "\t<tr><td> 4</td><td>num ~ thal+thalach+ca+cp                                                      </td><td>0.8158688</td></tr>\n",
       "\t<tr><td> 5</td><td>num ~ thal+thalach+ca+cp+exang                                                </td><td>0.8366135</td></tr>\n",
       "\t<tr><td> 6</td><td>num ~ thal+thalach+ca+cp+exang+chol                                           </td><td>0.8408688</td></tr>\n",
       "\t<tr><td> 7</td><td>num ~ thal+thalach+ca+cp+exang+chol+trestbps                                  </td><td>0.8450355</td></tr>\n",
       "\t<tr><td> 8</td><td>num ~ thal+thalach+ca+cp+exang+chol+trestbps+fbs                              </td><td>0.8408688</td></tr>\n",
       "\t<tr><td> 9</td><td>num ~ thal+thalach+ca+cp+exang+chol+trestbps+fbs+sex                          </td><td>0.8407801</td></tr>\n",
       "\t<tr><td>10</td><td>num ~ thal+thalach+ca+cp+exang+chol+trestbps+fbs+sex+oldpeak                  </td><td>0.8448582</td></tr>\n",
       "\t<tr><td>11</td><td>num ~ thal+thalach+ca+cp+exang+chol+trestbps+fbs+sex+oldpeak+age              </td><td>0.8366135</td></tr>\n",
       "\t<tr><td>12</td><td>num ~ thal+thalach+ca+cp+exang+chol+trestbps+fbs+sex+oldpeak+age+slope        </td><td>0.8450355</td></tr>\n",
       "\t<tr><td>13</td><td>num ~ thal+thalach+ca+cp+exang+chol+trestbps+fbs+sex+oldpeak+age+slope+restecg</td><td>0.8407801</td></tr>\n",
       "</tbody>\n",
       "</table>\n"
      ],
      "text/latex": [
       "A tibble: 13 × 3\n",
       "\\begin{tabular}{lll}\n",
       " size & model\\_string & accuracy\\\\\n",
       " <int> & <chr> & <dbl>\\\\\n",
       "\\hline\n",
       "\t  1 & num \\textasciitilde{} thal                                                                     & 0.7489362\\\\\n",
       "\t  2 & num \\textasciitilde{} thal+thalach                                                             & 0.7571809\\\\\n",
       "\t  3 & num \\textasciitilde{} thal+thalach+ca                                                          & 0.7864362\\\\\n",
       "\t  4 & num \\textasciitilde{} thal+thalach+ca+cp                                                       & 0.8158688\\\\\n",
       "\t  5 & num \\textasciitilde{} thal+thalach+ca+cp+exang                                                 & 0.8366135\\\\\n",
       "\t  6 & num \\textasciitilde{} thal+thalach+ca+cp+exang+chol                                            & 0.8408688\\\\\n",
       "\t  7 & num \\textasciitilde{} thal+thalach+ca+cp+exang+chol+trestbps                                   & 0.8450355\\\\\n",
       "\t  8 & num \\textasciitilde{} thal+thalach+ca+cp+exang+chol+trestbps+fbs                               & 0.8408688\\\\\n",
       "\t  9 & num \\textasciitilde{} thal+thalach+ca+cp+exang+chol+trestbps+fbs+sex                           & 0.8407801\\\\\n",
       "\t 10 & num \\textasciitilde{} thal+thalach+ca+cp+exang+chol+trestbps+fbs+sex+oldpeak                   & 0.8448582\\\\\n",
       "\t 11 & num \\textasciitilde{} thal+thalach+ca+cp+exang+chol+trestbps+fbs+sex+oldpeak+age               & 0.8366135\\\\\n",
       "\t 12 & num \\textasciitilde{} thal+thalach+ca+cp+exang+chol+trestbps+fbs+sex+oldpeak+age+slope         & 0.8450355\\\\\n",
       "\t 13 & num \\textasciitilde{} thal+thalach+ca+cp+exang+chol+trestbps+fbs+sex+oldpeak+age+slope+restecg & 0.8407801\\\\\n",
       "\\end{tabular}\n"
      ],
      "text/markdown": [
       "\n",
       "A tibble: 13 × 3\n",
       "\n",
       "| size &lt;int&gt; | model_string &lt;chr&gt; | accuracy &lt;dbl&gt; |\n",
       "|---|---|---|\n",
       "|  1 | num ~ thal                                                                     | 0.7489362 |\n",
       "|  2 | num ~ thal+thalach                                                             | 0.7571809 |\n",
       "|  3 | num ~ thal+thalach+ca                                                          | 0.7864362 |\n",
       "|  4 | num ~ thal+thalach+ca+cp                                                       | 0.8158688 |\n",
       "|  5 | num ~ thal+thalach+ca+cp+exang                                                 | 0.8366135 |\n",
       "|  6 | num ~ thal+thalach+ca+cp+exang+chol                                            | 0.8408688 |\n",
       "|  7 | num ~ thal+thalach+ca+cp+exang+chol+trestbps                                   | 0.8450355 |\n",
       "|  8 | num ~ thal+thalach+ca+cp+exang+chol+trestbps+fbs                               | 0.8408688 |\n",
       "|  9 | num ~ thal+thalach+ca+cp+exang+chol+trestbps+fbs+sex                           | 0.8407801 |\n",
       "| 10 | num ~ thal+thalach+ca+cp+exang+chol+trestbps+fbs+sex+oldpeak                   | 0.8448582 |\n",
       "| 11 | num ~ thal+thalach+ca+cp+exang+chol+trestbps+fbs+sex+oldpeak+age               | 0.8366135 |\n",
       "| 12 | num ~ thal+thalach+ca+cp+exang+chol+trestbps+fbs+sex+oldpeak+age+slope         | 0.8450355 |\n",
       "| 13 | num ~ thal+thalach+ca+cp+exang+chol+trestbps+fbs+sex+oldpeak+age+slope+restecg | 0.8407801 |\n",
       "\n"
      ],
      "text/plain": [
       "   size\n",
       "1   1  \n",
       "2   2  \n",
       "3   3  \n",
       "4   4  \n",
       "5   5  \n",
       "6   6  \n",
       "7   7  \n",
       "8   8  \n",
       "9   9  \n",
       "10 10  \n",
       "11 11  \n",
       "12 12  \n",
       "13 13  \n",
       "   model_string                                                                  \n",
       "1  num ~ thal                                                                    \n",
       "2  num ~ thal+thalach                                                            \n",
       "3  num ~ thal+thalach+ca                                                         \n",
       "4  num ~ thal+thalach+ca+cp                                                      \n",
       "5  num ~ thal+thalach+ca+cp+exang                                                \n",
       "6  num ~ thal+thalach+ca+cp+exang+chol                                           \n",
       "7  num ~ thal+thalach+ca+cp+exang+chol+trestbps                                  \n",
       "8  num ~ thal+thalach+ca+cp+exang+chol+trestbps+fbs                              \n",
       "9  num ~ thal+thalach+ca+cp+exang+chol+trestbps+fbs+sex                          \n",
       "10 num ~ thal+thalach+ca+cp+exang+chol+trestbps+fbs+sex+oldpeak                  \n",
       "11 num ~ thal+thalach+ca+cp+exang+chol+trestbps+fbs+sex+oldpeak+age              \n",
       "12 num ~ thal+thalach+ca+cp+exang+chol+trestbps+fbs+sex+oldpeak+age+slope        \n",
       "13 num ~ thal+thalach+ca+cp+exang+chol+trestbps+fbs+sex+oldpeak+age+slope+restecg\n",
       "   accuracy \n",
       "1  0.7489362\n",
       "2  0.7571809\n",
       "3  0.7864362\n",
       "4  0.8158688\n",
       "5  0.8366135\n",
       "6  0.8408688\n",
       "7  0.8450355\n",
       "8  0.8408688\n",
       "9  0.8407801\n",
       "10 0.8448582\n",
       "11 0.8366135\n",
       "12 0.8450355\n",
       "13 0.8407801"
      ]
     },
     "metadata": {},
     "output_type": "display_data"
    }
   ],
   "source": [
    "accuracies"
   ]
  },
  {
   "attachments": {
    "041b7ebc-e371-47b9-93e7-14e6eca69378.png": {
     "image/png": "[encoded data removed]"
    }
   },
   "cell_type": "markdown",
   "metadata": {},
   "source": [
    "![image.png](attachment:041b7ebc-e371-47b9-93e7-14e6eca69378.png)"
   ]
  },
  {
   "cell_type": "code",
   "execution_count": 30,
   "metadata": {},
   "outputs": [
    {
     "data": {
      "image/png": "[encoded data removed]",
      "text/plain": [
       "plot without title"
      ]
     },
     "metadata": {
      "image/png": {
       "height": 420,
       "width": 420
      }
     },
     "output_type": "display_data"
    }
   ],
   "source": [
    "accuracy <- ggplot(accuracies, aes(x = size, y = accuracy)) +\n",
    "  geom_point() +\n",
    "  geom_line() +\n",
    "  labs(x = \"Predictors\", y = \"Accuracy Estimate\") + \n",
    "  theme(text = element_text(size = 12))\n",
    "accuracy"
   ]
  },
  {
   "cell_type": "markdown",
   "metadata": {},
   "source": [
    "# Build the model with the selected predictors "
   ]
  },
  {
   "cell_type": "code",
   "execution_count": 31,
   "metadata": {},
   "outputs": [
    {
     "data": {
      "text/html": [
       "<table>\n",
       "<caption>A tibble: 9 × 7</caption>\n",
       "<thead>\n",
       "\t<tr><th scope=col>neighbors</th><th scope=col>.metric</th><th scope=col>.estimator</th><th scope=col>mean</th><th scope=col>n</th><th scope=col>std_err</th><th scope=col>.config</th></tr>\n",
       "\t<tr><th scope=col>&lt;int&gt;</th><th scope=col>&lt;chr&gt;</th><th scope=col>&lt;chr&gt;</th><th scope=col>&lt;dbl&gt;</th><th scope=col>&lt;int&gt;</th><th scope=col>&lt;dbl&gt;</th><th scope=col>&lt;chr&gt;</th></tr>\n",
       "</thead>\n",
       "<tbody>\n",
       "\t<tr><td> 2</td><td>accuracy</td><td>binary</td><td>0.7112589</td><td>5</td><td>0.02328778</td><td>Model1</td></tr>\n",
       "\t<tr><td> 4</td><td>accuracy</td><td>binary</td><td>0.7697695</td><td>5</td><td>0.05199217</td><td>Model2</td></tr>\n",
       "\t<tr><td> 5</td><td>accuracy</td><td>binary</td><td>0.7825355</td><td>5</td><td>0.03568926</td><td>Model3</td></tr>\n",
       "\t<tr><td> 7</td><td>accuracy</td><td>binary</td><td>0.7908688</td><td>5</td><td>0.03077640</td><td>Model4</td></tr>\n",
       "\t<tr><td> 9</td><td>accuracy</td><td>binary</td><td>0.8034574</td><td>5</td><td>0.02973647</td><td>Model5</td></tr>\n",
       "\t<tr><td>10</td><td>accuracy</td><td>binary</td><td>0.8034574</td><td>5</td><td>0.02973647</td><td>Model6</td></tr>\n",
       "\t<tr><td>12</td><td>accuracy</td><td>binary</td><td>0.8076241</td><td>5</td><td>0.02205514</td><td>Model7</td></tr>\n",
       "\t<tr><td>13</td><td>accuracy</td><td>binary</td><td>0.8076241</td><td>5</td><td>0.02569125</td><td>Model8</td></tr>\n",
       "\t<tr><td>14</td><td>accuracy</td><td>binary</td><td>0.8076241</td><td>5</td><td>0.02569125</td><td>Model9</td></tr>\n",
       "</tbody>\n",
       "</table>\n"
      ],
      "text/latex": [
       "A tibble: 9 × 7\n",
       "\\begin{tabular}{lllllll}\n",
       " neighbors & .metric & .estimator & mean & n & std\\_err & .config\\\\\n",
       " <int> & <chr> & <chr> & <dbl> & <int> & <dbl> & <chr>\\\\\n",
       "\\hline\n",
       "\t  2 & accuracy & binary & 0.7112589 & 5 & 0.02328778 & Model1\\\\\n",
       "\t  4 & accuracy & binary & 0.7697695 & 5 & 0.05199217 & Model2\\\\\n",
       "\t  5 & accuracy & binary & 0.7825355 & 5 & 0.03568926 & Model3\\\\\n",
       "\t  7 & accuracy & binary & 0.7908688 & 5 & 0.03077640 & Model4\\\\\n",
       "\t  9 & accuracy & binary & 0.8034574 & 5 & 0.02973647 & Model5\\\\\n",
       "\t 10 & accuracy & binary & 0.8034574 & 5 & 0.02973647 & Model6\\\\\n",
       "\t 12 & accuracy & binary & 0.8076241 & 5 & 0.02205514 & Model7\\\\\n",
       "\t 13 & accuracy & binary & 0.8076241 & 5 & 0.02569125 & Model8\\\\\n",
       "\t 14 & accuracy & binary & 0.8076241 & 5 & 0.02569125 & Model9\\\\\n",
       "\\end{tabular}\n"
      ],
      "text/markdown": [
       "\n",
       "A tibble: 9 × 7\n",
       "\n",
       "| neighbors &lt;int&gt; | .metric &lt;chr&gt; | .estimator &lt;chr&gt; | mean &lt;dbl&gt; | n &lt;int&gt; | std_err &lt;dbl&gt; | .config &lt;chr&gt; |\n",
       "|---|---|---|---|---|---|---|\n",
       "|  2 | accuracy | binary | 0.7112589 | 5 | 0.02328778 | Model1 |\n",
       "|  4 | accuracy | binary | 0.7697695 | 5 | 0.05199217 | Model2 |\n",
       "|  5 | accuracy | binary | 0.7825355 | 5 | 0.03568926 | Model3 |\n",
       "|  7 | accuracy | binary | 0.7908688 | 5 | 0.03077640 | Model4 |\n",
       "|  9 | accuracy | binary | 0.8034574 | 5 | 0.02973647 | Model5 |\n",
       "| 10 | accuracy | binary | 0.8034574 | 5 | 0.02973647 | Model6 |\n",
       "| 12 | accuracy | binary | 0.8076241 | 5 | 0.02205514 | Model7 |\n",
       "| 13 | accuracy | binary | 0.8076241 | 5 | 0.02569125 | Model8 |\n",
       "| 14 | accuracy | binary | 0.8076241 | 5 | 0.02569125 | Model9 |\n",
       "\n"
      ],
      "text/plain": [
       "  neighbors .metric  .estimator mean      n std_err    .config\n",
       "1  2        accuracy binary     0.7112589 5 0.02328778 Model1 \n",
       "2  4        accuracy binary     0.7697695 5 0.05199217 Model2 \n",
       "3  5        accuracy binary     0.7825355 5 0.03568926 Model3 \n",
       "4  7        accuracy binary     0.7908688 5 0.03077640 Model4 \n",
       "5  9        accuracy binary     0.8034574 5 0.02973647 Model5 \n",
       "6 10        accuracy binary     0.8034574 5 0.02973647 Model6 \n",
       "7 12        accuracy binary     0.8076241 5 0.02205514 Model7 \n",
       "8 13        accuracy binary     0.8076241 5 0.02569125 Model8 \n",
       "9 14        accuracy binary     0.8076241 5 0.02569125 Model9 "
      ]
     },
     "metadata": {},
     "output_type": "display_data"
    }
   ],
   "source": [
    "set.seed(800)\n",
    "\n",
    "forward_recipe <- recipe(num ~ thal+thalach+ca+cp+exang+chol+trestbps,\n",
    "                         data = heart_train) %>% \n",
    "  step_scale(all_predictors()) %>% \n",
    "  step_center(all_predictors())\n",
    "\n",
    "knn_spec <- nearest_neighbor(weight_func = \"rectangular\", \n",
    "                             neighbors = tune()) %>% \n",
    "  set_engine(\"kknn\") %>% \n",
    "  set_mode(\"classification\")\n",
    "\n",
    "heart_vfold <- vfold_cv(heart_train,\n",
    "                        v = 5,\n",
    "                        strata = num)\n",
    "\n",
    "knn_results_fs <- workflow() %>% \n",
    "  add_recipe(forward_recipe) %>% \n",
    "  add_model(knn_spec) %>% \n",
    "  tune_grid(resamples = heart_vfold, grid = 10) %>% \n",
    "  collect_metrics() \n",
    "\n",
    "accuracies_fs <- knn_results_fs %>% \n",
    "  filter(.metric == \"accuracy\")\n",
    "accuracies_fs"
   ]
  },
  {
   "cell_type": "code",
   "execution_count": 32,
   "metadata": {},
   "outputs": [
    {
     "data": {
      "image/png": "[encoded data removed]",
      "text/plain": [
       "plot without title"
      ]
     },
     "metadata": {
      "image/png": {
       "height": 420,
       "width": 420
      }
     },
     "output_type": "display_data"
    }
   ],
   "source": [
    "accuracy_vs_n <- ggplot(accuracies_fs, aes(x = neighbors, y = mean)) +\n",
    "  geom_point() +\n",
    "  geom_line() +\n",
    "  labs(x = \"Neighbors\", y = \"Accuracy Estimate\") + \n",
    "  theme(text = element_text(size = 12))\n",
    "accuracy_vs_n"
   ]
  },
  {
   "cell_type": "markdown",
   "metadata": {},
   "source": [
    "13 Neighbors chosen due to stability in accuracy measurement "
   ]
  },
  {
   "cell_type": "code",
   "execution_count": 34,
   "metadata": {},
   "outputs": [
    {
     "data": {
      "text/html": [
       "<table>\n",
       "<caption>A tibble: 1 × 3</caption>\n",
       "<thead>\n",
       "\t<tr><th scope=col>.metric</th><th scope=col>.estimator</th><th scope=col>.estimate</th></tr>\n",
       "\t<tr><th scope=col>&lt;chr&gt;</th><th scope=col>&lt;chr&gt;</th><th scope=col>&lt;dbl&gt;</th></tr>\n",
       "</thead>\n",
       "<tbody>\n",
       "\t<tr><td>accuracy</td><td>binary</td><td>0.8448276</td></tr>\n",
       "</tbody>\n",
       "</table>\n"
      ],
      "text/latex": [
       "A tibble: 1 × 3\n",
       "\\begin{tabular}{lll}\n",
       " .metric & .estimator & .estimate\\\\\n",
       " <chr> & <chr> & <dbl>\\\\\n",
       "\\hline\n",
       "\t accuracy & binary & 0.8448276\\\\\n",
       "\\end{tabular}\n"
      ],
      "text/markdown": [
       "\n",
       "A tibble: 1 × 3\n",
       "\n",
       "| .metric &lt;chr&gt; | .estimator &lt;chr&gt; | .estimate &lt;dbl&gt; |\n",
       "|---|---|---|\n",
       "| accuracy | binary | 0.8448276 |\n",
       "\n"
      ],
      "text/plain": [
       "  .metric  .estimator .estimate\n",
       "1 accuracy binary     0.8448276"
      ]
     },
     "metadata": {},
     "output_type": "display_data"
    }
   ],
   "source": [
    "knn_spec_rt <- nearest_neighbor(weight_func = \"rectangular\", neighbors = 13) %>% \n",
    "  set_engine(\"kknn\") %>% \n",
    "  set_mode(\"classification\")\n",
    "\n",
    "knn_fit_rt <- workflow() %>% \n",
    "  add_recipe(forward_recipe) %>% \n",
    "  add_model(knn_spec_rt) %>% \n",
    "  fit(data = heart_train)\n",
    "\n",
    "heart_test_predictions <- predict(knn_fit_rt, heart_test) %>% \n",
    "  bind_cols(heart_test)%>% \n",
    "  metrics(truth = num, estimate = .pred_class) %>% \n",
    "  filter(.metric == \"accuracy\")\n",
    "heart_test_predictions"
   ]
  }
 ],
 "metadata": {
  "kernelspec": {
   "display_name": "R",
   "language": "R",
   "name": "ir"
  },
  "language_info": {
   "codemirror_mode": "r",
   "file_extension": ".r",
   "mimetype": "text/x-r-source",
   "name": "R",
   "pygments_lexer": "r",
   "version": "4.0.0"
  }
 },
 "nbformat": 4,
 "nbformat_minor": 4
}
