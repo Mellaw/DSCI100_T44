{
 "cells": [
  {
   "cell_type": "markdown",
   "metadata": {},
   "source": [
    "## DSCI 100 Project Proposal Team 44"
   ]
  },
  {
   "cell_type": "markdown",
   "metadata": {},
   "source": [
    "# Project Title: Predicting Heart Disease in Adults"
   ]
  },
  {
   "cell_type": "markdown",
   "metadata": {},
   "source": [
    "## Introduction\n",
    "\n",
    "### Background\n",
    "\n",
    "### Predictor selection\n"
   ]
  },
  {
   "cell_type": "markdown",
   "metadata": {},
   "source": [
    "## Methods & Results"
   ]
  },
  {
   "cell_type": "code",
   "execution_count": 1,
   "metadata": {},
   "outputs": [
    {
     "name": "stderr",
     "output_type": "stream",
     "text": [
      "── \u001b[1mAttaching packages\u001b[22m ─────────────────────────────────────── tidyverse 1.3.0 ──\n",
      "\n",
      "\u001b[32m✔\u001b[39m \u001b[34mggplot2\u001b[39m 3.3.2     \u001b[32m✔\u001b[39m \u001b[34mpurrr  \u001b[39m 0.3.4\n",
      "\u001b[32m✔\u001b[39m \u001b[34mtibble \u001b[39m 3.0.3     \u001b[32m✔\u001b[39m \u001b[34mdplyr  \u001b[39m 1.0.2\n",
      "\u001b[32m✔\u001b[39m \u001b[34mtidyr  \u001b[39m 1.1.2     \u001b[32m✔\u001b[39m \u001b[34mstringr\u001b[39m 1.4.0\n",
      "\u001b[32m✔\u001b[39m \u001b[34mreadr  \u001b[39m 1.3.1     \u001b[32m✔\u001b[39m \u001b[34mforcats\u001b[39m 0.5.0\n",
      "\n",
      "Warning message:\n",
      "“package ‘ggplot2’ was built under R version 4.0.1”\n",
      "Warning message:\n",
      "“package ‘tibble’ was built under R version 4.0.2”\n",
      "Warning message:\n",
      "“package ‘tidyr’ was built under R version 4.0.2”\n",
      "Warning message:\n",
      "“package ‘dplyr’ was built under R version 4.0.2”\n",
      "── \u001b[1mConflicts\u001b[22m ────────────────────────────────────────── tidyverse_conflicts() ──\n",
      "\u001b[31m✖\u001b[39m \u001b[34mdplyr\u001b[39m::\u001b[32mfilter()\u001b[39m masks \u001b[34mstats\u001b[39m::filter()\n",
      "\u001b[31m✖\u001b[39m \u001b[34mdplyr\u001b[39m::\u001b[32mlag()\u001b[39m    masks \u001b[34mstats\u001b[39m::lag()\n",
      "\n",
      "Warning message:\n",
      "“package ‘tidymodels’ was built under R version 4.0.2”\n",
      "── \u001b[1mAttaching packages\u001b[22m ────────────────────────────────────── tidymodels 0.1.1 ──\n",
      "\n",
      "\u001b[32m✔\u001b[39m \u001b[34mbroom    \u001b[39m 0.7.0      \u001b[32m✔\u001b[39m \u001b[34mrecipes  \u001b[39m 0.1.13\n",
      "\u001b[32m✔\u001b[39m \u001b[34mdials    \u001b[39m 0.0.9      \u001b[32m✔\u001b[39m \u001b[34mrsample  \u001b[39m 0.0.7 \n",
      "\u001b[32m✔\u001b[39m \u001b[34minfer    \u001b[39m 0.5.4      \u001b[32m✔\u001b[39m \u001b[34mtune     \u001b[39m 0.1.1 \n",
      "\u001b[32m✔\u001b[39m \u001b[34mmodeldata\u001b[39m 0.0.2      \u001b[32m✔\u001b[39m \u001b[34mworkflows\u001b[39m 0.2.0 \n",
      "\u001b[32m✔\u001b[39m \u001b[34mparsnip  \u001b[39m 0.1.3      \u001b[32m✔\u001b[39m \u001b[34myardstick\u001b[39m 0.0.7 \n",
      "\n",
      "Warning message:\n",
      "“package ‘broom’ was built under R version 4.0.2”\n",
      "Warning message:\n",
      "“package ‘dials’ was built under R version 4.0.2”\n",
      "Warning message:\n",
      "“package ‘infer’ was built under R version 4.0.3”\n",
      "Warning message:\n",
      "“package ‘modeldata’ was built under R version 4.0.1”\n",
      "Warning message:\n",
      "“package ‘parsnip’ was built under R version 4.0.2”\n",
      "Warning message:\n",
      "“package ‘recipes’ was built under R version 4.0.1”\n",
      "Warning message:\n",
      "“package ‘tune’ was built under R version 4.0.2”\n",
      "Warning message:\n",
      "“package ‘workflows’ was built under R version 4.0.2”\n",
      "Warning message:\n",
      "“package ‘yardstick’ was built under R version 4.0.2”\n",
      "── \u001b[1mConflicts\u001b[22m ───────────────────────────────────────── tidymodels_conflicts() ──\n",
      "\u001b[31m✖\u001b[39m \u001b[34mscales\u001b[39m::\u001b[32mdiscard()\u001b[39m masks \u001b[34mpurrr\u001b[39m::discard()\n",
      "\u001b[31m✖\u001b[39m \u001b[34mdplyr\u001b[39m::\u001b[32mfilter()\u001b[39m   masks \u001b[34mstats\u001b[39m::filter()\n",
      "\u001b[31m✖\u001b[39m \u001b[34mrecipes\u001b[39m::\u001b[32mfixed()\u001b[39m  masks \u001b[34mstringr\u001b[39m::fixed()\n",
      "\u001b[31m✖\u001b[39m \u001b[34mdplyr\u001b[39m::\u001b[32mlag()\u001b[39m      masks \u001b[34mstats\u001b[39m::lag()\n",
      "\u001b[31m✖\u001b[39m \u001b[34myardstick\u001b[39m::\u001b[32mspec()\u001b[39m masks \u001b[34mreadr\u001b[39m::spec()\n",
      "\u001b[31m✖\u001b[39m \u001b[34mrecipes\u001b[39m::\u001b[32mstep()\u001b[39m   masks \u001b[34mstats\u001b[39m::step()\n",
      "\n"
     ]
    }
   ],
   "source": [
    "#Load libraries\n",
    "library(tidyverse)\n",
    "library(repr)\n",
    "library(tidymodels)"
   ]
  },
  {
   "cell_type": "markdown",
   "metadata": {},
   "source": [
    "### Load & Format data"
   ]
  },
  {
   "cell_type": "code",
   "execution_count": 35,
   "metadata": {},
   "outputs": [
    {
     "name": "stderr",
     "output_type": "stream",
     "text": [
      "Warning message:\n",
      "“Duplicated column names deduplicated: '1.0' => '1.0_1' [3], '1.0' => '1.0_2' [6], '0.0' => '0.0_1' [12]”\n",
      "Parsed with column specification:\n",
      "cols(\n",
      "  `63.0` = \u001b[32mcol_double()\u001b[39m,\n",
      "  `1.0` = \u001b[32mcol_double()\u001b[39m,\n",
      "  `1.0_1` = \u001b[32mcol_double()\u001b[39m,\n",
      "  `145.0` = \u001b[32mcol_double()\u001b[39m,\n",
      "  `233.0` = \u001b[32mcol_double()\u001b[39m,\n",
      "  `1.0_2` = \u001b[32mcol_double()\u001b[39m,\n",
      "  `2.0` = \u001b[32mcol_double()\u001b[39m,\n",
      "  `150.0` = \u001b[32mcol_double()\u001b[39m,\n",
      "  `0.0` = \u001b[32mcol_double()\u001b[39m,\n",
      "  `2.3` = \u001b[32mcol_double()\u001b[39m,\n",
      "  `3.0` = \u001b[32mcol_double()\u001b[39m,\n",
      "  `0.0_1` = \u001b[31mcol_character()\u001b[39m,\n",
      "  `6.0` = \u001b[31mcol_character()\u001b[39m,\n",
      "  `0` = \u001b[32mcol_double()\u001b[39m\n",
      ")\n",
      "\n",
      "Warning message:\n",
      "“Problem with `mutate()` input `ca`.\n",
      "\u001b[34mℹ\u001b[39m NAs introduced by coercion\n",
      "\u001b[34mℹ\u001b[39m Input `ca` is `as.numeric(ca)`.”\n",
      "Warning message in mask$eval_all_mutate(dots[[i]]):\n",
      "“NAs introduced by coercion”\n",
      "Warning message:\n",
      "“Problem with `mutate()` input `thal`.\n",
      "\u001b[34mℹ\u001b[39m NAs introduced by coercion\n",
      "\u001b[34mℹ\u001b[39m Input `thal` is `as.numeric(thal)`.”\n",
      "Warning message in mask$eval_all_mutate(dots[[i]]):\n",
      "“NAs introduced by coercion”\n"
     ]
    },
    {
     "data": {
      "text/html": [
       "<table>\n",
       "<caption>A tibble: 6 × 8</caption>\n",
       "<thead>\n",
       "\t<tr><th scope=col>age</th><th scope=col>sex</th><th scope=col>trestbps</th><th scope=col>chol</th><th scope=col>thalach</th><th scope=col>oldpeak</th><th scope=col>ca</th><th scope=col>num</th></tr>\n",
       "\t<tr><th scope=col>&lt;dbl&gt;</th><th scope=col>&lt;dbl&gt;</th><th scope=col>&lt;dbl&gt;</th><th scope=col>&lt;dbl&gt;</th><th scope=col>&lt;dbl&gt;</th><th scope=col>&lt;dbl&gt;</th><th scope=col>&lt;dbl&gt;</th><th scope=col>&lt;fct&gt;</th></tr>\n",
       "</thead>\n",
       "<tbody>\n",
       "\t<tr><td>67</td><td>1</td><td>160</td><td>286</td><td>108</td><td>1.5</td><td>3</td><td>disease</td></tr>\n",
       "\t<tr><td>67</td><td>1</td><td>120</td><td>229</td><td>129</td><td>2.6</td><td>2</td><td>disease</td></tr>\n",
       "\t<tr><td>37</td><td>1</td><td>130</td><td>250</td><td>187</td><td>3.5</td><td>0</td><td>healthy</td></tr>\n",
       "\t<tr><td>41</td><td>0</td><td>130</td><td>204</td><td>172</td><td>1.4</td><td>0</td><td>healthy</td></tr>\n",
       "\t<tr><td>56</td><td>1</td><td>120</td><td>236</td><td>178</td><td>0.8</td><td>0</td><td>healthy</td></tr>\n",
       "\t<tr><td>62</td><td>0</td><td>140</td><td>268</td><td>160</td><td>3.6</td><td>2</td><td>disease</td></tr>\n",
       "</tbody>\n",
       "</table>\n"
      ],
      "text/latex": [
       "A tibble: 6 × 8\n",
       "\\begin{tabular}{llllllll}\n",
       " age & sex & trestbps & chol & thalach & oldpeak & ca & num\\\\\n",
       " <dbl> & <dbl> & <dbl> & <dbl> & <dbl> & <dbl> & <dbl> & <fct>\\\\\n",
       "\\hline\n",
       "\t 67 & 1 & 160 & 286 & 108 & 1.5 & 3 & disease\\\\\n",
       "\t 67 & 1 & 120 & 229 & 129 & 2.6 & 2 & disease\\\\\n",
       "\t 37 & 1 & 130 & 250 & 187 & 3.5 & 0 & healthy\\\\\n",
       "\t 41 & 0 & 130 & 204 & 172 & 1.4 & 0 & healthy\\\\\n",
       "\t 56 & 1 & 120 & 236 & 178 & 0.8 & 0 & healthy\\\\\n",
       "\t 62 & 0 & 140 & 268 & 160 & 3.6 & 2 & disease\\\\\n",
       "\\end{tabular}\n"
      ],
      "text/markdown": [
       "\n",
       "A tibble: 6 × 8\n",
       "\n",
       "| age &lt;dbl&gt; | sex &lt;dbl&gt; | trestbps &lt;dbl&gt; | chol &lt;dbl&gt; | thalach &lt;dbl&gt; | oldpeak &lt;dbl&gt; | ca &lt;dbl&gt; | num &lt;fct&gt; |\n",
       "|---|---|---|---|---|---|---|---|\n",
       "| 67 | 1 | 160 | 286 | 108 | 1.5 | 3 | disease |\n",
       "| 67 | 1 | 120 | 229 | 129 | 2.6 | 2 | disease |\n",
       "| 37 | 1 | 130 | 250 | 187 | 3.5 | 0 | healthy |\n",
       "| 41 | 0 | 130 | 204 | 172 | 1.4 | 0 | healthy |\n",
       "| 56 | 1 | 120 | 236 | 178 | 0.8 | 0 | healthy |\n",
       "| 62 | 0 | 140 | 268 | 160 | 3.6 | 2 | disease |\n",
       "\n"
      ],
      "text/plain": [
       "  age sex trestbps chol thalach oldpeak ca num    \n",
       "1 67  1   160      286  108     1.5     3  disease\n",
       "2 67  1   120      229  129     2.6     2  disease\n",
       "3 37  1   130      250  187     3.5     0  healthy\n",
       "4 41  0   130      204  172     1.4     0  healthy\n",
       "5 56  1   120      236  178     0.8     0  healthy\n",
       "6 62  0   140      268  160     3.6     2  disease"
      ]
     },
     "metadata": {},
     "output_type": "display_data"
    }
   ],
   "source": [
    "set.seed(800)\n",
    "\n",
    "#Read data in from UCI website\n",
    "data <- read_csv(\"https://archive.ics.uci.edu/ml/machine-learning-databases/heart-disease/processed.cleveland.data\")\n",
    "\n",
    "#Add column names\n",
    "attributes <-  c(\"age\", 'sex','cp', 'trestbps', 'chol', 'fbs', 'restecg',\n",
    "                 'thalach', 'exang', 'oldpeak', 'slope', 'ca', 'thal', 'num')\n",
    "colnames(data) <- attributes\n",
    "\n",
    "#Remove NA values and reformat data types to correct type\n",
    "data <- data %>%\n",
    "  mutate(oldpeak = as.numeric(oldpeak),\n",
    "         ca = as.numeric(ca),\n",
    "         thal = as.numeric(thal)) %>% \n",
    "  filter(!is.na(ca),\n",
    "         !is.na(thal))\n",
    "\n",
    "#Remove categorial predictors \n",
    "data <-  data %>% \n",
    "    select(-c(cp, fbs, restecg, exang, slope, thal))\n",
    "\n",
    "#Convert the prediction label into a factor\n",
    "data <- data %>%\n",
    "  mutate(num = ifelse(num > 0,\"disease\",\"healthy\")) %>% \n",
    "  mutate(num = as_factor(num)) \n",
    "\n",
    "head(data)"
   ]
  },
  {
   "cell_type": "code",
   "execution_count": 36,
   "metadata": {},
   "outputs": [
    {
     "data": {
      "text/html": [
       "<table>\n",
       "<caption>A tibble: 6 × 7</caption>\n",
       "<thead>\n",
       "\t<tr><th scope=col>age</th><th scope=col>trestbps</th><th scope=col>chol</th><th scope=col>thalach</th><th scope=col>oldpeak</th><th scope=col>ca</th><th scope=col>num</th></tr>\n",
       "\t<tr><th scope=col>&lt;dbl&gt;</th><th scope=col>&lt;dbl&gt;</th><th scope=col>&lt;dbl&gt;</th><th scope=col>&lt;dbl&gt;</th><th scope=col>&lt;dbl&gt;</th><th scope=col>&lt;dbl&gt;</th><th scope=col>&lt;fct&gt;</th></tr>\n",
       "</thead>\n",
       "<tbody>\n",
       "\t<tr><td>41</td><td>130</td><td>204</td><td>172</td><td>1.4</td><td>0</td><td>healthy</td></tr>\n",
       "\t<tr><td>62</td><td>140</td><td>268</td><td>160</td><td>3.6</td><td>2</td><td>disease</td></tr>\n",
       "\t<tr><td>57</td><td>120</td><td>354</td><td>163</td><td>0.6</td><td>0</td><td>healthy</td></tr>\n",
       "\t<tr><td>56</td><td>140</td><td>294</td><td>153</td><td>1.3</td><td>0</td><td>healthy</td></tr>\n",
       "\t<tr><td>48</td><td>130</td><td>275</td><td>139</td><td>0.2</td><td>0</td><td>healthy</td></tr>\n",
       "\t<tr><td>58</td><td>150</td><td>283</td><td>162</td><td>1.0</td><td>0</td><td>healthy</td></tr>\n",
       "</tbody>\n",
       "</table>\n"
      ],
      "text/latex": [
       "A tibble: 6 × 7\n",
       "\\begin{tabular}{lllllll}\n",
       " age & trestbps & chol & thalach & oldpeak & ca & num\\\\\n",
       " <dbl> & <dbl> & <dbl> & <dbl> & <dbl> & <dbl> & <fct>\\\\\n",
       "\\hline\n",
       "\t 41 & 130 & 204 & 172 & 1.4 & 0 & healthy\\\\\n",
       "\t 62 & 140 & 268 & 160 & 3.6 & 2 & disease\\\\\n",
       "\t 57 & 120 & 354 & 163 & 0.6 & 0 & healthy\\\\\n",
       "\t 56 & 140 & 294 & 153 & 1.3 & 0 & healthy\\\\\n",
       "\t 48 & 130 & 275 & 139 & 0.2 & 0 & healthy\\\\\n",
       "\t 58 & 150 & 283 & 162 & 1.0 & 0 & healthy\\\\\n",
       "\\end{tabular}\n"
      ],
      "text/markdown": [
       "\n",
       "A tibble: 6 × 7\n",
       "\n",
       "| age &lt;dbl&gt; | trestbps &lt;dbl&gt; | chol &lt;dbl&gt; | thalach &lt;dbl&gt; | oldpeak &lt;dbl&gt; | ca &lt;dbl&gt; | num &lt;fct&gt; |\n",
       "|---|---|---|---|---|---|---|\n",
       "| 41 | 130 | 204 | 172 | 1.4 | 0 | healthy |\n",
       "| 62 | 140 | 268 | 160 | 3.6 | 2 | disease |\n",
       "| 57 | 120 | 354 | 163 | 0.6 | 0 | healthy |\n",
       "| 56 | 140 | 294 | 153 | 1.3 | 0 | healthy |\n",
       "| 48 | 130 | 275 | 139 | 0.2 | 0 | healthy |\n",
       "| 58 | 150 | 283 | 162 | 1.0 | 0 | healthy |\n",
       "\n"
      ],
      "text/plain": [
       "  age trestbps chol thalach oldpeak ca num    \n",
       "1 41  130      204  172     1.4     0  healthy\n",
       "2 62  140      268  160     3.6     2  disease\n",
       "3 57  120      354  163     0.6     0  healthy\n",
       "4 56  140      294  153     1.3     0  healthy\n",
       "5 48  130      275  139     0.2     0  healthy\n",
       "6 58  150      283  162     1.0     0  healthy"
      ]
     },
     "metadata": {},
     "output_type": "display_data"
    },
    {
     "data": {
      "text/html": [
       "<table>\n",
       "<caption>A tibble: 6 × 7</caption>\n",
       "<thead>\n",
       "\t<tr><th scope=col>age</th><th scope=col>trestbps</th><th scope=col>chol</th><th scope=col>thalach</th><th scope=col>oldpeak</th><th scope=col>ca</th><th scope=col>num</th></tr>\n",
       "\t<tr><th scope=col>&lt;dbl&gt;</th><th scope=col>&lt;dbl&gt;</th><th scope=col>&lt;dbl&gt;</th><th scope=col>&lt;dbl&gt;</th><th scope=col>&lt;dbl&gt;</th><th scope=col>&lt;dbl&gt;</th><th scope=col>&lt;fct&gt;</th></tr>\n",
       "</thead>\n",
       "<tbody>\n",
       "\t<tr><td>67</td><td>160</td><td>286</td><td>108</td><td>1.5</td><td>3</td><td>disease</td></tr>\n",
       "\t<tr><td>67</td><td>120</td><td>229</td><td>129</td><td>2.6</td><td>2</td><td>disease</td></tr>\n",
       "\t<tr><td>37</td><td>130</td><td>250</td><td>187</td><td>3.5</td><td>0</td><td>healthy</td></tr>\n",
       "\t<tr><td>56</td><td>120</td><td>236</td><td>178</td><td>0.8</td><td>0</td><td>healthy</td></tr>\n",
       "\t<tr><td>63</td><td>130</td><td>254</td><td>147</td><td>1.4</td><td>1</td><td>disease</td></tr>\n",
       "\t<tr><td>53</td><td>140</td><td>203</td><td>155</td><td>3.1</td><td>0</td><td>disease</td></tr>\n",
       "</tbody>\n",
       "</table>\n"
      ],
      "text/latex": [
       "A tibble: 6 × 7\n",
       "\\begin{tabular}{lllllll}\n",
       " age & trestbps & chol & thalach & oldpeak & ca & num\\\\\n",
       " <dbl> & <dbl> & <dbl> & <dbl> & <dbl> & <dbl> & <fct>\\\\\n",
       "\\hline\n",
       "\t 67 & 160 & 286 & 108 & 1.5 & 3 & disease\\\\\n",
       "\t 67 & 120 & 229 & 129 & 2.6 & 2 & disease\\\\\n",
       "\t 37 & 130 & 250 & 187 & 3.5 & 0 & healthy\\\\\n",
       "\t 56 & 120 & 236 & 178 & 0.8 & 0 & healthy\\\\\n",
       "\t 63 & 130 & 254 & 147 & 1.4 & 1 & disease\\\\\n",
       "\t 53 & 140 & 203 & 155 & 3.1 & 0 & disease\\\\\n",
       "\\end{tabular}\n"
      ],
      "text/markdown": [
       "\n",
       "A tibble: 6 × 7\n",
       "\n",
       "| age &lt;dbl&gt; | trestbps &lt;dbl&gt; | chol &lt;dbl&gt; | thalach &lt;dbl&gt; | oldpeak &lt;dbl&gt; | ca &lt;dbl&gt; | num &lt;fct&gt; |\n",
       "|---|---|---|---|---|---|---|\n",
       "| 67 | 160 | 286 | 108 | 1.5 | 3 | disease |\n",
       "| 67 | 120 | 229 | 129 | 2.6 | 2 | disease |\n",
       "| 37 | 130 | 250 | 187 | 3.5 | 0 | healthy |\n",
       "| 56 | 120 | 236 | 178 | 0.8 | 0 | healthy |\n",
       "| 63 | 130 | 254 | 147 | 1.4 | 1 | disease |\n",
       "| 53 | 140 | 203 | 155 | 3.1 | 0 | disease |\n",
       "\n"
      ],
      "text/plain": [
       "  age trestbps chol thalach oldpeak ca num    \n",
       "1 67  160      286  108     1.5     3  disease\n",
       "2 67  120      229  129     2.6     2  disease\n",
       "3 37  130      250  187     3.5     0  healthy\n",
       "4 56  120      236  178     0.8     0  healthy\n",
       "5 63  130      254  147     1.4     1  disease\n",
       "6 53  140      203  155     3.1     0  disease"
      ]
     },
     "metadata": {},
     "output_type": "display_data"
    }
   ],
   "source": [
    "#Stratefy data by gender\n",
    "female_data <- data %>% \n",
    "    filter(sex == 0) %>% \n",
    "    select(-sex)\n",
    "\n",
    "male_data <- data %>% \n",
    "    filter(sex == 1) %>% \n",
    "    select(-sex)\n",
    "\n",
    "head(female_data)\n",
    "head(male_data)"
   ]
  },
  {
   "cell_type": "code",
   "execution_count": 41,
   "metadata": {},
   "outputs": [],
   "source": [
    "set.seed(800)\n",
    "\n",
    "#Create the training and testing data sets\n",
    "heart_split <- initial_split(female_data, prop = 0.8, strata = num)\n",
    "heart_train <- training(heart_split)\n",
    "heart_test <- testing(heart_split)    \n",
    "\n",
    "# heart_split_f <- initial_split(female_data, prop = 0.8, strata = num)\n",
    "# heart_train_f <- training(heart_split_f)\n",
    "# heart_test_f <- testing(heart_split_f)   "
   ]
  },
  {
   "cell_type": "markdown",
   "metadata": {},
   "source": [
    "## Determine which predictors produce a more accurate model for each gender"
   ]
  },
  {
   "cell_type": "code",
   "execution_count": 42,
   "metadata": {},
   "outputs": [
    {
     "data": {
      "text/html": [
       "6"
      ],
      "text/latex": [
       "6"
      ],
      "text/markdown": [
       "6"
      ],
      "text/plain": [
       "[1] 6"
      ]
     },
     "metadata": {},
     "output_type": "display_data"
    },
    {
     "data": {
      "text/html": [
       "<style>\n",
       ".list-inline {list-style: none; margin:0; padding: 0}\n",
       ".list-inline>li {display: inline-block}\n",
       ".list-inline>li:not(:last-child)::after {content: \"\\00b7\"; padding: 0 .5ex}\n",
       "</style>\n",
       "<ol class=list-inline><li>'age'</li><li>'trestbps'</li><li>'chol'</li><li>'thalach'</li><li>'oldpeak'</li><li>'ca'</li></ol>\n"
      ],
      "text/latex": [
       "\\begin{enumerate*}\n",
       "\\item 'age'\n",
       "\\item 'trestbps'\n",
       "\\item 'chol'\n",
       "\\item 'thalach'\n",
       "\\item 'oldpeak'\n",
       "\\item 'ca'\n",
       "\\end{enumerate*}\n"
      ],
      "text/markdown": [
       "1. 'age'\n",
       "2. 'trestbps'\n",
       "3. 'chol'\n",
       "4. 'thalach'\n",
       "5. 'oldpeak'\n",
       "6. 'ca'\n",
       "\n",
       "\n"
      ],
      "text/plain": [
       "[1] \"age\"      \"trestbps\" \"chol\"     \"thalach\"  \"oldpeak\"  \"ca\"      "
      ]
     },
     "metadata": {},
     "output_type": "display_data"
    }
   ],
   "source": [
    "set.seed(800)\n",
    "\n",
    "#Predictor columns\n",
    "names <- colnames(heart_train %>% select(-num))\n",
    "\n",
    "#Tibble to store accuracies:\n",
    "accuracies <- tibble(size = integer(),\n",
    "                     model_string = character(),\n",
    "                     accuracy = numeric())\n",
    "\n",
    "#create a model spec\n",
    "knn_spec <- nearest_neighbor(weight_func = \"rectangular\",\n",
    "                             neighbors = tune()) %>%\n",
    "  set_engine(\"kknn\") %>% \n",
    "  set_mode(\"classification\")\n",
    "\n",
    "#Create a 5-fold cross-validation object\n",
    "heart_vfold <- vfold_cv(heart_train,\n",
    "                        v = 5,\n",
    "                        strata = num)\n",
    "\n",
    "#Store the total number of predictors \n",
    "n_total <- length(names)\n",
    "\n",
    "#Store selected predictors\n",
    "selected <- c()\n",
    "\n",
    "#Check variables\n",
    "n_total\n",
    "names\n"
   ]
  },
  {
   "cell_type": "code",
   "execution_count": 43,
   "metadata": {},
   "outputs": [],
   "source": [
    "set.seed(800)\n",
    "for (i in 1:n_total) {\n",
    "  accs <- list()\n",
    "  models <- list()\n",
    "  for (j in names){\n",
    "    preds_new <- c(selected, j)\n",
    "    model_string <- paste(\"num\", \"~\", paste(preds_new, collapse = '+'))\n",
    "    \n",
    "    #Create recipe from model string\n",
    "    heart_recipe <- recipe(as.formula(model_string),\n",
    "                            data = heart_train) %>% \n",
    "      step_scale(all_predictors()) %>% \n",
    "      step_center(all_predictors())\n",
    "    \n",
    "    #Tune KNN classifier with these predictors\n",
    "    #collect accuracy for best k\n",
    "    \n",
    "    acc <- workflow() %>% \n",
    "      add_recipe(heart_recipe) %>% \n",
    "      add_model(knn_spec) %>% \n",
    "      tune_grid(resamples = heart_vfold, grid = 10) %>% \n",
    "      collect_metrics() %>% \n",
    "      filter(.metric == \"accuracy\") %>% \n",
    "      summarise(mx = max(mean))\n",
    "    acc <- acc$mx %>% unlist()\n",
    "    \n",
    "    #add result to dataframe\n",
    "    accs[[j]] <- acc\n",
    "    models[[j]] <- model_string\n",
    "  }\n",
    "  jstar <- which.max(unlist(accs))\n",
    "  accuracies <- accuracies %>% \n",
    "    add_row(size = i, \n",
    "            model_string = models[[jstar]], \n",
    "            accuracy = accs[[jstar]])\n",
    "  selected <- c(selected, names[[jstar]])\n",
    "  names <- names[-jstar]\n",
    "}"
   ]
  },
  {
   "cell_type": "code",
   "execution_count": 44,
   "metadata": {},
   "outputs": [
    {
     "data": {
      "text/html": [
       "<table>\n",
       "<caption>A tibble: 6 × 3</caption>\n",
       "<thead>\n",
       "\t<tr><th scope=col>size</th><th scope=col>model_string</th><th scope=col>accuracy</th></tr>\n",
       "\t<tr><th scope=col>&lt;int&gt;</th><th scope=col>&lt;chr&gt;</th><th scope=col>&lt;dbl&gt;</th></tr>\n",
       "</thead>\n",
       "<tbody>\n",
       "\t<tr><td>1</td><td>num ~ oldpeak                             </td><td>0.7821078</td></tr>\n",
       "\t<tr><td>2</td><td>num ~ oldpeak+age                         </td><td>0.8330392</td></tr>\n",
       "\t<tr><td>3</td><td>num ~ oldpeak+age+ca                      </td><td>0.7845098</td></tr>\n",
       "\t<tr><td>4</td><td>num ~ oldpeak+age+ca+trestbps             </td><td>0.7954412</td></tr>\n",
       "\t<tr><td>5</td><td>num ~ oldpeak+age+ca+trestbps+chol        </td><td>0.7687745</td></tr>\n",
       "\t<tr><td>6</td><td>num ~ oldpeak+age+ca+trestbps+chol+thalach</td><td>0.7554412</td></tr>\n",
       "</tbody>\n",
       "</table>\n"
      ],
      "text/latex": [
       "A tibble: 6 × 3\n",
       "\\begin{tabular}{lll}\n",
       " size & model\\_string & accuracy\\\\\n",
       " <int> & <chr> & <dbl>\\\\\n",
       "\\hline\n",
       "\t 1 & num \\textasciitilde{} oldpeak                              & 0.7821078\\\\\n",
       "\t 2 & num \\textasciitilde{} oldpeak+age                          & 0.8330392\\\\\n",
       "\t 3 & num \\textasciitilde{} oldpeak+age+ca                       & 0.7845098\\\\\n",
       "\t 4 & num \\textasciitilde{} oldpeak+age+ca+trestbps              & 0.7954412\\\\\n",
       "\t 5 & num \\textasciitilde{} oldpeak+age+ca+trestbps+chol         & 0.7687745\\\\\n",
       "\t 6 & num \\textasciitilde{} oldpeak+age+ca+trestbps+chol+thalach & 0.7554412\\\\\n",
       "\\end{tabular}\n"
      ],
      "text/markdown": [
       "\n",
       "A tibble: 6 × 3\n",
       "\n",
       "| size &lt;int&gt; | model_string &lt;chr&gt; | accuracy &lt;dbl&gt; |\n",
       "|---|---|---|\n",
       "| 1 | num ~ oldpeak                              | 0.7821078 |\n",
       "| 2 | num ~ oldpeak+age                          | 0.8330392 |\n",
       "| 3 | num ~ oldpeak+age+ca                       | 0.7845098 |\n",
       "| 4 | num ~ oldpeak+age+ca+trestbps              | 0.7954412 |\n",
       "| 5 | num ~ oldpeak+age+ca+trestbps+chol         | 0.7687745 |\n",
       "| 6 | num ~ oldpeak+age+ca+trestbps+chol+thalach | 0.7554412 |\n",
       "\n"
      ],
      "text/plain": [
       "  size model_string                               accuracy \n",
       "1 1    num ~ oldpeak                              0.7821078\n",
       "2 2    num ~ oldpeak+age                          0.8330392\n",
       "3 3    num ~ oldpeak+age+ca                       0.7845098\n",
       "4 4    num ~ oldpeak+age+ca+trestbps              0.7954412\n",
       "5 5    num ~ oldpeak+age+ca+trestbps+chol         0.7687745\n",
       "6 6    num ~ oldpeak+age+ca+trestbps+chol+thalach 0.7554412"
      ]
     },
     "metadata": {},
     "output_type": "display_data"
    }
   ],
   "source": [
    "accuracies"
   ]
  },
  {
   "attachments": {
    "1db5008b-6ace-46dd-a1eb-bd012bb9a63e.png": {
     "image/png": "[encoded data removed]"
    },
    "60e09d43-7861-4278-b40c-e562e1aa9026.png": {
     "image/png": "[encoded data removed]"
    },
    "c54a3fde-e959-488c-8369-ef6dc02c3666.png": {
     "image/png": "[encoded data removed]"
    },
    "f85666af-ec29-4b92-b761-097d9d7fbf61.png": {
     "image/png": "[encoded data removed]"
    }
   },
   "cell_type": "markdown",
   "metadata": {},
   "source": [
    "Only numerical predictors  \n",
    " ![image.png](attachment:f85666af-ec29-4b92-b761-097d9d7fbf61.png)  \n",
    "Only numerical + binary categorical predictors  \n",
    " ![image.png](attachment:1db5008b-6ace-46dd-a1eb-bd012bb9a63e.png)  \n",
    "Only female numerical  \n",
    " ![image.png](attachment:60e09d43-7861-4278-b40c-e562e1aa9026.png)  \n",
    "Only male numerical  \n",
    "![image.png](attachment:c54a3fde-e959-488c-8369-ef6dc02c3666.png)\n",
    "\n"
   ]
  },
  {
   "cell_type": "code",
   "execution_count": 30,
   "metadata": {},
   "outputs": [
    {
     "data": {
      "image/png": "[encoded data removed]",
      "text/plain": [
       "plot without title"
      ]
     },
     "metadata": {
      "image/png": {
       "height": 420,
       "width": 420
      }
     },
     "output_type": "display_data"
    }
   ],
   "source": [
    "accuracy <- ggplot(accuracies, aes(x = size, y = accuracy)) +\n",
    "  geom_point() +\n",
    "  geom_line() +\n",
    "  labs(x = \"Predictors\", y = \"Accuracy Estimate\") + \n",
    "  theme(text = element_text(size = 12))\n",
    "accuracy"
   ]
  },
  {
   "cell_type": "markdown",
   "metadata": {},
   "source": [
    "# Build the model with the selected predictors "
   ]
  },
  {
   "cell_type": "code",
   "execution_count": 47,
   "metadata": {},
   "outputs": [
    {
     "data": {
      "text/html": [
       "<table>\n",
       "<caption>A tibble: 9 × 7</caption>\n",
       "<thead>\n",
       "\t<tr><th scope=col>neighbors</th><th scope=col>.metric</th><th scope=col>.estimator</th><th scope=col>mean</th><th scope=col>n</th><th scope=col>std_err</th><th scope=col>.config</th></tr>\n",
       "\t<tr><th scope=col>&lt;int&gt;</th><th scope=col>&lt;chr&gt;</th><th scope=col>&lt;chr&gt;</th><th scope=col>&lt;dbl&gt;</th><th scope=col>&lt;int&gt;</th><th scope=col>&lt;dbl&gt;</th><th scope=col>&lt;chr&gt;</th></tr>\n",
       "</thead>\n",
       "<tbody>\n",
       "\t<tr><td> 2</td><td>accuracy</td><td>binary</td><td>0.7112589</td><td>5</td><td>0.02328778</td><td>Model1</td></tr>\n",
       "\t<tr><td> 4</td><td>accuracy</td><td>binary</td><td>0.7697695</td><td>5</td><td>0.05199217</td><td>Model2</td></tr>\n",
       "\t<tr><td> 5</td><td>accuracy</td><td>binary</td><td>0.7825355</td><td>5</td><td>0.03568926</td><td>Model3</td></tr>\n",
       "\t<tr><td> 7</td><td>accuracy</td><td>binary</td><td>0.7908688</td><td>5</td><td>0.03077640</td><td>Model4</td></tr>\n",
       "\t<tr><td> 9</td><td>accuracy</td><td>binary</td><td>0.8034574</td><td>5</td><td>0.02973647</td><td>Model5</td></tr>\n",
       "\t<tr><td>10</td><td>accuracy</td><td>binary</td><td>0.8034574</td><td>5</td><td>0.02973647</td><td>Model6</td></tr>\n",
       "\t<tr><td>12</td><td>accuracy</td><td>binary</td><td>0.8076241</td><td>5</td><td>0.02205514</td><td>Model7</td></tr>\n",
       "\t<tr><td>13</td><td>accuracy</td><td>binary</td><td>0.8076241</td><td>5</td><td>0.02569125</td><td>Model8</td></tr>\n",
       "\t<tr><td>14</td><td>accuracy</td><td>binary</td><td>0.8076241</td><td>5</td><td>0.02569125</td><td>Model9</td></tr>\n",
       "</tbody>\n",
       "</table>\n"
      ],
      "text/latex": [
       "A tibble: 9 × 7\n",
       "\\begin{tabular}{lllllll}\n",
       " neighbors & .metric & .estimator & mean & n & std\\_err & .config\\\\\n",
       " <int> & <chr> & <chr> & <dbl> & <int> & <dbl> & <chr>\\\\\n",
       "\\hline\n",
       "\t  2 & accuracy & binary & 0.7112589 & 5 & 0.02328778 & Model1\\\\\n",
       "\t  4 & accuracy & binary & 0.7697695 & 5 & 0.05199217 & Model2\\\\\n",
       "\t  5 & accuracy & binary & 0.7825355 & 5 & 0.03568926 & Model3\\\\\n",
       "\t  7 & accuracy & binary & 0.7908688 & 5 & 0.03077640 & Model4\\\\\n",
       "\t  9 & accuracy & binary & 0.8034574 & 5 & 0.02973647 & Model5\\\\\n",
       "\t 10 & accuracy & binary & 0.8034574 & 5 & 0.02973647 & Model6\\\\\n",
       "\t 12 & accuracy & binary & 0.8076241 & 5 & 0.02205514 & Model7\\\\\n",
       "\t 13 & accuracy & binary & 0.8076241 & 5 & 0.02569125 & Model8\\\\\n",
       "\t 14 & accuracy & binary & 0.8076241 & 5 & 0.02569125 & Model9\\\\\n",
       "\\end{tabular}\n"
      ],
      "text/markdown": [
       "\n",
       "A tibble: 9 × 7\n",
       "\n",
       "| neighbors &lt;int&gt; | .metric &lt;chr&gt; | .estimator &lt;chr&gt; | mean &lt;dbl&gt; | n &lt;int&gt; | std_err &lt;dbl&gt; | .config &lt;chr&gt; |\n",
       "|---|---|---|---|---|---|---|\n",
       "|  2 | accuracy | binary | 0.7112589 | 5 | 0.02328778 | Model1 |\n",
       "|  4 | accuracy | binary | 0.7697695 | 5 | 0.05199217 | Model2 |\n",
       "|  5 | accuracy | binary | 0.7825355 | 5 | 0.03568926 | Model3 |\n",
       "|  7 | accuracy | binary | 0.7908688 | 5 | 0.03077640 | Model4 |\n",
       "|  9 | accuracy | binary | 0.8034574 | 5 | 0.02973647 | Model5 |\n",
       "| 10 | accuracy | binary | 0.8034574 | 5 | 0.02973647 | Model6 |\n",
       "| 12 | accuracy | binary | 0.8076241 | 5 | 0.02205514 | Model7 |\n",
       "| 13 | accuracy | binary | 0.8076241 | 5 | 0.02569125 | Model8 |\n",
       "| 14 | accuracy | binary | 0.8076241 | 5 | 0.02569125 | Model9 |\n",
       "\n"
      ],
      "text/plain": [
       "  neighbors .metric  .estimator mean      n std_err    .config\n",
       "1  2        accuracy binary     0.7112589 5 0.02328778 Model1 \n",
       "2  4        accuracy binary     0.7697695 5 0.05199217 Model2 \n",
       "3  5        accuracy binary     0.7825355 5 0.03568926 Model3 \n",
       "4  7        accuracy binary     0.7908688 5 0.03077640 Model4 \n",
       "5  9        accuracy binary     0.8034574 5 0.02973647 Model5 \n",
       "6 10        accuracy binary     0.8034574 5 0.02973647 Model6 \n",
       "7 12        accuracy binary     0.8076241 5 0.02205514 Model7 \n",
       "8 13        accuracy binary     0.8076241 5 0.02569125 Model8 \n",
       "9 14        accuracy binary     0.8076241 5 0.02569125 Model9 "
      ]
     },
     "metadata": {},
     "output_type": "display_data"
    }
   ],
   "source": [
    "set.seed(800)\n",
    "\n",
    "forward_recipe <- recipe(num ~ thal+thalach+ca+cp+exang+chol+trestbps,\n",
    "                         data = heart_train) %>% \n",
    "  step_scale(all_predictors()) %>% \n",
    "  step_center(all_predictors())\n",
    "\n",
    "knn_spec <- nearest_neighbor(weight_func = \"rectangular\", \n",
    "                             neighbors = tune()) %>% \n",
    "  set_engine(\"kknn\") %>% \n",
    "  set_mode(\"classification\")\n",
    "\n",
    "heart_vfold <- vfold_cv(heart_train,\n",
    "                        v = 5,\n",
    "                        strata = num)\n",
    "\n",
    "knn_results_fs <- workflow() %>% \n",
    "  add_recipe(forward_recipe) %>% \n",
    "  add_model(knn_spec) %>% \n",
    "  tune_grid(resamples = heart_vfold, grid = 10) %>% \n",
    "  collect_metrics() \n",
    "\n",
    "accuracies_fs <- knn_results_fs %>% \n",
    "  filter(.metric == \"accuracy\")\n",
    "accuracies_fs"
   ]
  },
  {
   "cell_type": "code",
   "execution_count": 48,
   "metadata": {},
   "outputs": [
    {
     "data": {
      "image/png": "[encoded data removed]",
      "text/plain": [
       "plot without title"
      ]
     },
     "metadata": {
      "image/png": {
       "height": 420,
       "width": 420
      }
     },
     "output_type": "display_data"
    }
   ],
   "source": [
    "accuracy_vs_n <- ggplot(accuracies_fs, aes(x = neighbors, y = mean)) +\n",
    "  geom_point() +\n",
    "  geom_line() +\n",
    "  labs(x = \"Neighbors\", y = \"Accuracy Estimate\") + \n",
    "  theme(text = element_text(size = 12))\n",
    "accuracy_vs_n"
   ]
  },
  {
   "cell_type": "markdown",
   "metadata": {},
   "source": [
    "13 Neighbors chosen due to stability in accuracy measurement "
   ]
  },
  {
   "cell_type": "code",
   "execution_count": 51,
   "metadata": {},
   "outputs": [],
   "source": [
    "knn_spec_rt <- nearest_neighbor(weight_func = \"rectangular\", neighbors = 13) %>% \n",
    "  set_engine(\"kknn\") %>% \n",
    "  set_mode(\"classification\")\n",
    "\n",
    "knn_fit_rt <- workflow() %>% \n",
    "  add_recipe(forward_recipe) %>% \n",
    "  add_model(knn_spec_rt) %>% \n",
    "  fit(data = heart_train)\n"
   ]
  },
  {
   "cell_type": "code",
   "execution_count": 52,
   "metadata": {},
   "outputs": [
    {
     "data": {
      "text/html": [
       "<table>\n",
       "<caption>A tibble: 1 × 3</caption>\n",
       "<thead>\n",
       "\t<tr><th scope=col>.metric</th><th scope=col>.estimator</th><th scope=col>.estimate</th></tr>\n",
       "\t<tr><th scope=col>&lt;chr&gt;</th><th scope=col>&lt;chr&gt;</th><th scope=col>&lt;dbl&gt;</th></tr>\n",
       "</thead>\n",
       "<tbody>\n",
       "\t<tr><td>accuracy</td><td>binary</td><td>0.832636</td></tr>\n",
       "</tbody>\n",
       "</table>\n"
      ],
      "text/latex": [
       "A tibble: 1 × 3\n",
       "\\begin{tabular}{lll}\n",
       " .metric & .estimator & .estimate\\\\\n",
       " <chr> & <chr> & <dbl>\\\\\n",
       "\\hline\n",
       "\t accuracy & binary & 0.832636\\\\\n",
       "\\end{tabular}\n"
      ],
      "text/markdown": [
       "\n",
       "A tibble: 1 × 3\n",
       "\n",
       "| .metric &lt;chr&gt; | .estimator &lt;chr&gt; | .estimate &lt;dbl&gt; |\n",
       "|---|---|---|\n",
       "| accuracy | binary | 0.832636 |\n",
       "\n"
      ],
      "text/plain": [
       "  .metric  .estimator .estimate\n",
       "1 accuracy binary     0.832636 "
      ]
     },
     "metadata": {},
     "output_type": "display_data"
    }
   ],
   "source": [
    "heart_train_predictions <- predict(knn_fit_rt, heart_train) %>% \n",
    "  bind_cols(heart_train)\n",
    "\n",
    "heart_metrics_train <- heart_train_predictions %>% \n",
    "  metrics(truth = num, estimate = .pred_class) %>% \n",
    "  filter(.metric == \"accuracy\")\n",
    "\n",
    "#heart_test_predictions\n",
    "heart_metrics_train"
   ]
  },
  {
   "cell_type": "markdown",
   "metadata": {},
   "source": [
    "## Predict Model accuracy on testing data"
   ]
  },
  {
   "cell_type": "code",
   "execution_count": 53,
   "metadata": {},
   "outputs": [
    {
     "data": {
      "text/html": [
       "<table>\n",
       "<caption>A tibble: 1 × 3</caption>\n",
       "<thead>\n",
       "\t<tr><th scope=col>.metric</th><th scope=col>.estimator</th><th scope=col>.estimate</th></tr>\n",
       "\t<tr><th scope=col>&lt;chr&gt;</th><th scope=col>&lt;chr&gt;</th><th scope=col>&lt;dbl&gt;</th></tr>\n",
       "</thead>\n",
       "<tbody>\n",
       "\t<tr><td>accuracy</td><td>binary</td><td>0.8448276</td></tr>\n",
       "</tbody>\n",
       "</table>\n"
      ],
      "text/latex": [
       "A tibble: 1 × 3\n",
       "\\begin{tabular}{lll}\n",
       " .metric & .estimator & .estimate\\\\\n",
       " <chr> & <chr> & <dbl>\\\\\n",
       "\\hline\n",
       "\t accuracy & binary & 0.8448276\\\\\n",
       "\\end{tabular}\n"
      ],
      "text/markdown": [
       "\n",
       "A tibble: 1 × 3\n",
       "\n",
       "| .metric &lt;chr&gt; | .estimator &lt;chr&gt; | .estimate &lt;dbl&gt; |\n",
       "|---|---|---|\n",
       "| accuracy | binary | 0.8448276 |\n",
       "\n"
      ],
      "text/plain": [
       "  .metric  .estimator .estimate\n",
       "1 accuracy binary     0.8448276"
      ]
     },
     "metadata": {},
     "output_type": "display_data"
    }
   ],
   "source": [
    "heart_test_predictions <- predict(knn_fit_rt, heart_test) %>% \n",
    "  bind_cols(heart_test)\n",
    "\n",
    "heart_metrics_test <- heart_test_predictions %>% \n",
    "  metrics(truth = num, estimate = .pred_class) %>% \n",
    "  filter(.metric == \"accuracy\")\n",
    "\n",
    "#heart_test_predictions\n",
    "heart_metrics_test"
   ]
  },
  {
   "cell_type": "code",
   "execution_count": 50,
   "metadata": {},
   "outputs": [
    {
     "data": {
      "text/plain": [
       "          Truth\n",
       "Prediction healthy disease\n",
       "   healthy      27       5\n",
       "   disease       4      22"
      ]
     },
     "metadata": {},
     "output_type": "display_data"
    }
   ],
   "source": [
    "#Confusion matrix \n",
    "\n",
    "confusion <- heart_test_predictions %>% \n",
    "             conf_mat(truth = num , estimate = .pred_class)\n",
    "\n",
    "confusion"
   ]
  }
 ],
 "metadata": {
  "kernelspec": {
   "display_name": "R",
   "language": "R",
   "name": "ir"
  },
  "language_info": {
   "codemirror_mode": "r",
   "file_extension": ".r",
   "mimetype": "text/x-r-source",
   "name": "R",
   "pygments_lexer": "r",
   "version": "4.0.0"
  }
 },
 "nbformat": 4,
 "nbformat_minor": 4
}
